{
 "cells": [
  {
   "cell_type": "code",
   "execution_count": 1,
   "id": "developing-engine",
   "metadata": {},
   "outputs": [],
   "source": [
    "import pandas as pd\n",
    "import numpy as np\n",
    "\n",
    "%matplotlib inline\n",
    "import matplotlib.pyplot as plt\n",
    "import seaborn as sns\n",
    "\n",
    "import warnings\n",
    "warnings.filterwarnings(\"ignore\")"
   ]
  },
  {
   "cell_type": "markdown",
   "id": "overhead-investigator",
   "metadata": {},
   "source": [
    "**(i)**"
   ]
  },
  {
   "cell_type": "code",
   "execution_count": 2,
   "id": "efficient-burlington",
   "metadata": {},
   "outputs": [],
   "source": [
    "hitters_data = pd.read_csv(\"/mnt/c/Users/pooja/Downloads/Hitters.csv\")"
   ]
  },
  {
   "cell_type": "code",
   "execution_count": 3,
   "id": "common-clothing",
   "metadata": {},
   "outputs": [
    {
     "data": {
      "text/html": [
       "<div>\n",
       "<style scoped>\n",
       "    .dataframe tbody tr th:only-of-type {\n",
       "        vertical-align: middle;\n",
       "    }\n",
       "\n",
       "    .dataframe tbody tr th {\n",
       "        vertical-align: top;\n",
       "    }\n",
       "\n",
       "    .dataframe thead th {\n",
       "        text-align: right;\n",
       "    }\n",
       "</style>\n",
       "<table border=\"1\" class=\"dataframe\">\n",
       "  <thead>\n",
       "    <tr style=\"text-align: right;\">\n",
       "      <th></th>\n",
       "      <th>AtBat</th>\n",
       "      <th>Hits</th>\n",
       "      <th>HmRun</th>\n",
       "      <th>Runs</th>\n",
       "      <th>RBI</th>\n",
       "      <th>Walks</th>\n",
       "      <th>Years</th>\n",
       "      <th>CAtBat</th>\n",
       "      <th>CHits</th>\n",
       "      <th>CHmRun</th>\n",
       "      <th>CRuns</th>\n",
       "      <th>CRBI</th>\n",
       "      <th>CWalks</th>\n",
       "      <th>League</th>\n",
       "      <th>Division</th>\n",
       "      <th>PutOuts</th>\n",
       "      <th>Assists</th>\n",
       "      <th>Errors</th>\n",
       "      <th>Salary</th>\n",
       "      <th>NewLeague</th>\n",
       "    </tr>\n",
       "  </thead>\n",
       "  <tbody>\n",
       "    <tr>\n",
       "      <th>0</th>\n",
       "      <td>293</td>\n",
       "      <td>66</td>\n",
       "      <td>1</td>\n",
       "      <td>30</td>\n",
       "      <td>29</td>\n",
       "      <td>14</td>\n",
       "      <td>1</td>\n",
       "      <td>293</td>\n",
       "      <td>66</td>\n",
       "      <td>1</td>\n",
       "      <td>30</td>\n",
       "      <td>29</td>\n",
       "      <td>14</td>\n",
       "      <td>A</td>\n",
       "      <td>E</td>\n",
       "      <td>446</td>\n",
       "      <td>33</td>\n",
       "      <td>20</td>\n",
       "      <td>NaN</td>\n",
       "      <td>A</td>\n",
       "    </tr>\n",
       "    <tr>\n",
       "      <th>1</th>\n",
       "      <td>315</td>\n",
       "      <td>81</td>\n",
       "      <td>7</td>\n",
       "      <td>24</td>\n",
       "      <td>38</td>\n",
       "      <td>39</td>\n",
       "      <td>14</td>\n",
       "      <td>3449</td>\n",
       "      <td>835</td>\n",
       "      <td>69</td>\n",
       "      <td>321</td>\n",
       "      <td>414</td>\n",
       "      <td>375</td>\n",
       "      <td>N</td>\n",
       "      <td>W</td>\n",
       "      <td>632</td>\n",
       "      <td>43</td>\n",
       "      <td>10</td>\n",
       "      <td>475.0</td>\n",
       "      <td>N</td>\n",
       "    </tr>\n",
       "    <tr>\n",
       "      <th>2</th>\n",
       "      <td>479</td>\n",
       "      <td>130</td>\n",
       "      <td>18</td>\n",
       "      <td>66</td>\n",
       "      <td>72</td>\n",
       "      <td>76</td>\n",
       "      <td>3</td>\n",
       "      <td>1624</td>\n",
       "      <td>457</td>\n",
       "      <td>63</td>\n",
       "      <td>224</td>\n",
       "      <td>266</td>\n",
       "      <td>263</td>\n",
       "      <td>A</td>\n",
       "      <td>W</td>\n",
       "      <td>880</td>\n",
       "      <td>82</td>\n",
       "      <td>14</td>\n",
       "      <td>480.0</td>\n",
       "      <td>A</td>\n",
       "    </tr>\n",
       "    <tr>\n",
       "      <th>3</th>\n",
       "      <td>496</td>\n",
       "      <td>141</td>\n",
       "      <td>20</td>\n",
       "      <td>65</td>\n",
       "      <td>78</td>\n",
       "      <td>37</td>\n",
       "      <td>11</td>\n",
       "      <td>5628</td>\n",
       "      <td>1575</td>\n",
       "      <td>225</td>\n",
       "      <td>828</td>\n",
       "      <td>838</td>\n",
       "      <td>354</td>\n",
       "      <td>N</td>\n",
       "      <td>E</td>\n",
       "      <td>200</td>\n",
       "      <td>11</td>\n",
       "      <td>3</td>\n",
       "      <td>500.0</td>\n",
       "      <td>N</td>\n",
       "    </tr>\n",
       "    <tr>\n",
       "      <th>4</th>\n",
       "      <td>321</td>\n",
       "      <td>87</td>\n",
       "      <td>10</td>\n",
       "      <td>39</td>\n",
       "      <td>42</td>\n",
       "      <td>30</td>\n",
       "      <td>2</td>\n",
       "      <td>396</td>\n",
       "      <td>101</td>\n",
       "      <td>12</td>\n",
       "      <td>48</td>\n",
       "      <td>46</td>\n",
       "      <td>33</td>\n",
       "      <td>N</td>\n",
       "      <td>E</td>\n",
       "      <td>805</td>\n",
       "      <td>40</td>\n",
       "      <td>4</td>\n",
       "      <td>91.5</td>\n",
       "      <td>N</td>\n",
       "    </tr>\n",
       "  </tbody>\n",
       "</table>\n",
       "</div>"
      ],
      "text/plain": [
       "   AtBat  Hits  HmRun  Runs  RBI  Walks  Years  CAtBat  CHits  CHmRun  CRuns  \\\n",
       "0    293    66      1    30   29     14      1     293     66       1     30   \n",
       "1    315    81      7    24   38     39     14    3449    835      69    321   \n",
       "2    479   130     18    66   72     76      3    1624    457      63    224   \n",
       "3    496   141     20    65   78     37     11    5628   1575     225    828   \n",
       "4    321    87     10    39   42     30      2     396    101      12     48   \n",
       "\n",
       "   CRBI  CWalks League Division  PutOuts  Assists  Errors  Salary NewLeague  \n",
       "0    29      14      A        E      446       33      20     NaN         A  \n",
       "1   414     375      N        W      632       43      10   475.0         N  \n",
       "2   266     263      A        W      880       82      14   480.0         A  \n",
       "3   838     354      N        E      200       11       3   500.0         N  \n",
       "4    46      33      N        E      805       40       4    91.5         N  "
      ]
     },
     "execution_count": 3,
     "metadata": {},
     "output_type": "execute_result"
    }
   ],
   "source": [
    "hitters_data.head()"
   ]
  },
  {
   "cell_type": "code",
   "execution_count": 4,
   "id": "cultural-campus",
   "metadata": {},
   "outputs": [
    {
     "data": {
      "text/html": [
       "<div>\n",
       "<style scoped>\n",
       "    .dataframe tbody tr th:only-of-type {\n",
       "        vertical-align: middle;\n",
       "    }\n",
       "\n",
       "    .dataframe tbody tr th {\n",
       "        vertical-align: top;\n",
       "    }\n",
       "\n",
       "    .dataframe thead th {\n",
       "        text-align: right;\n",
       "    }\n",
       "</style>\n",
       "<table border=\"1\" class=\"dataframe\">\n",
       "  <thead>\n",
       "    <tr style=\"text-align: right;\">\n",
       "      <th></th>\n",
       "      <th>AtBat</th>\n",
       "      <th>Hits</th>\n",
       "      <th>HmRun</th>\n",
       "      <th>Runs</th>\n",
       "      <th>RBI</th>\n",
       "      <th>Walks</th>\n",
       "      <th>Years</th>\n",
       "      <th>CAtBat</th>\n",
       "      <th>CHits</th>\n",
       "      <th>CHmRun</th>\n",
       "      <th>CRuns</th>\n",
       "      <th>CRBI</th>\n",
       "      <th>CWalks</th>\n",
       "      <th>League</th>\n",
       "      <th>Division</th>\n",
       "      <th>PutOuts</th>\n",
       "      <th>Assists</th>\n",
       "      <th>Errors</th>\n",
       "      <th>Salary</th>\n",
       "      <th>NewLeague</th>\n",
       "    </tr>\n",
       "  </thead>\n",
       "  <tbody>\n",
       "    <tr>\n",
       "      <th>0</th>\n",
       "      <td>293</td>\n",
       "      <td>66</td>\n",
       "      <td>1</td>\n",
       "      <td>30</td>\n",
       "      <td>29</td>\n",
       "      <td>14</td>\n",
       "      <td>1</td>\n",
       "      <td>293</td>\n",
       "      <td>66</td>\n",
       "      <td>1</td>\n",
       "      <td>30</td>\n",
       "      <td>29</td>\n",
       "      <td>14</td>\n",
       "      <td>A</td>\n",
       "      <td>E</td>\n",
       "      <td>446</td>\n",
       "      <td>33</td>\n",
       "      <td>20</td>\n",
       "      <td>NaN</td>\n",
       "      <td>A</td>\n",
       "    </tr>\n",
       "    <tr>\n",
       "      <th>1</th>\n",
       "      <td>315</td>\n",
       "      <td>81</td>\n",
       "      <td>7</td>\n",
       "      <td>24</td>\n",
       "      <td>38</td>\n",
       "      <td>39</td>\n",
       "      <td>14</td>\n",
       "      <td>3449</td>\n",
       "      <td>835</td>\n",
       "      <td>69</td>\n",
       "      <td>321</td>\n",
       "      <td>414</td>\n",
       "      <td>375</td>\n",
       "      <td>N</td>\n",
       "      <td>W</td>\n",
       "      <td>632</td>\n",
       "      <td>43</td>\n",
       "      <td>10</td>\n",
       "      <td>475.0</td>\n",
       "      <td>N</td>\n",
       "    </tr>\n",
       "    <tr>\n",
       "      <th>2</th>\n",
       "      <td>479</td>\n",
       "      <td>130</td>\n",
       "      <td>18</td>\n",
       "      <td>66</td>\n",
       "      <td>72</td>\n",
       "      <td>76</td>\n",
       "      <td>3</td>\n",
       "      <td>1624</td>\n",
       "      <td>457</td>\n",
       "      <td>63</td>\n",
       "      <td>224</td>\n",
       "      <td>266</td>\n",
       "      <td>263</td>\n",
       "      <td>A</td>\n",
       "      <td>W</td>\n",
       "      <td>880</td>\n",
       "      <td>82</td>\n",
       "      <td>14</td>\n",
       "      <td>480.0</td>\n",
       "      <td>A</td>\n",
       "    </tr>\n",
       "    <tr>\n",
       "      <th>3</th>\n",
       "      <td>496</td>\n",
       "      <td>141</td>\n",
       "      <td>20</td>\n",
       "      <td>65</td>\n",
       "      <td>78</td>\n",
       "      <td>37</td>\n",
       "      <td>11</td>\n",
       "      <td>5628</td>\n",
       "      <td>1575</td>\n",
       "      <td>225</td>\n",
       "      <td>828</td>\n",
       "      <td>838</td>\n",
       "      <td>354</td>\n",
       "      <td>N</td>\n",
       "      <td>E</td>\n",
       "      <td>200</td>\n",
       "      <td>11</td>\n",
       "      <td>3</td>\n",
       "      <td>500.0</td>\n",
       "      <td>N</td>\n",
       "    </tr>\n",
       "    <tr>\n",
       "      <th>4</th>\n",
       "      <td>321</td>\n",
       "      <td>87</td>\n",
       "      <td>10</td>\n",
       "      <td>39</td>\n",
       "      <td>42</td>\n",
       "      <td>30</td>\n",
       "      <td>2</td>\n",
       "      <td>396</td>\n",
       "      <td>101</td>\n",
       "      <td>12</td>\n",
       "      <td>48</td>\n",
       "      <td>46</td>\n",
       "      <td>33</td>\n",
       "      <td>N</td>\n",
       "      <td>E</td>\n",
       "      <td>805</td>\n",
       "      <td>40</td>\n",
       "      <td>4</td>\n",
       "      <td>91.5</td>\n",
       "      <td>N</td>\n",
       "    </tr>\n",
       "    <tr>\n",
       "      <th>...</th>\n",
       "      <td>...</td>\n",
       "      <td>...</td>\n",
       "      <td>...</td>\n",
       "      <td>...</td>\n",
       "      <td>...</td>\n",
       "      <td>...</td>\n",
       "      <td>...</td>\n",
       "      <td>...</td>\n",
       "      <td>...</td>\n",
       "      <td>...</td>\n",
       "      <td>...</td>\n",
       "      <td>...</td>\n",
       "      <td>...</td>\n",
       "      <td>...</td>\n",
       "      <td>...</td>\n",
       "      <td>...</td>\n",
       "      <td>...</td>\n",
       "      <td>...</td>\n",
       "      <td>...</td>\n",
       "      <td>...</td>\n",
       "    </tr>\n",
       "    <tr>\n",
       "      <th>317</th>\n",
       "      <td>497</td>\n",
       "      <td>127</td>\n",
       "      <td>7</td>\n",
       "      <td>65</td>\n",
       "      <td>48</td>\n",
       "      <td>37</td>\n",
       "      <td>5</td>\n",
       "      <td>2703</td>\n",
       "      <td>806</td>\n",
       "      <td>32</td>\n",
       "      <td>379</td>\n",
       "      <td>311</td>\n",
       "      <td>138</td>\n",
       "      <td>N</td>\n",
       "      <td>E</td>\n",
       "      <td>325</td>\n",
       "      <td>9</td>\n",
       "      <td>3</td>\n",
       "      <td>700.0</td>\n",
       "      <td>N</td>\n",
       "    </tr>\n",
       "    <tr>\n",
       "      <th>318</th>\n",
       "      <td>492</td>\n",
       "      <td>136</td>\n",
       "      <td>5</td>\n",
       "      <td>76</td>\n",
       "      <td>50</td>\n",
       "      <td>94</td>\n",
       "      <td>12</td>\n",
       "      <td>5511</td>\n",
       "      <td>1511</td>\n",
       "      <td>39</td>\n",
       "      <td>897</td>\n",
       "      <td>451</td>\n",
       "      <td>875</td>\n",
       "      <td>A</td>\n",
       "      <td>E</td>\n",
       "      <td>313</td>\n",
       "      <td>381</td>\n",
       "      <td>20</td>\n",
       "      <td>875.0</td>\n",
       "      <td>A</td>\n",
       "    </tr>\n",
       "    <tr>\n",
       "      <th>319</th>\n",
       "      <td>475</td>\n",
       "      <td>126</td>\n",
       "      <td>3</td>\n",
       "      <td>61</td>\n",
       "      <td>43</td>\n",
       "      <td>52</td>\n",
       "      <td>6</td>\n",
       "      <td>1700</td>\n",
       "      <td>433</td>\n",
       "      <td>7</td>\n",
       "      <td>217</td>\n",
       "      <td>93</td>\n",
       "      <td>146</td>\n",
       "      <td>A</td>\n",
       "      <td>W</td>\n",
       "      <td>37</td>\n",
       "      <td>113</td>\n",
       "      <td>7</td>\n",
       "      <td>385.0</td>\n",
       "      <td>A</td>\n",
       "    </tr>\n",
       "    <tr>\n",
       "      <th>320</th>\n",
       "      <td>573</td>\n",
       "      <td>144</td>\n",
       "      <td>9</td>\n",
       "      <td>85</td>\n",
       "      <td>60</td>\n",
       "      <td>78</td>\n",
       "      <td>8</td>\n",
       "      <td>3198</td>\n",
       "      <td>857</td>\n",
       "      <td>97</td>\n",
       "      <td>470</td>\n",
       "      <td>420</td>\n",
       "      <td>332</td>\n",
       "      <td>A</td>\n",
       "      <td>E</td>\n",
       "      <td>1314</td>\n",
       "      <td>131</td>\n",
       "      <td>12</td>\n",
       "      <td>960.0</td>\n",
       "      <td>A</td>\n",
       "    </tr>\n",
       "    <tr>\n",
       "      <th>321</th>\n",
       "      <td>631</td>\n",
       "      <td>170</td>\n",
       "      <td>9</td>\n",
       "      <td>77</td>\n",
       "      <td>44</td>\n",
       "      <td>31</td>\n",
       "      <td>11</td>\n",
       "      <td>4908</td>\n",
       "      <td>1457</td>\n",
       "      <td>30</td>\n",
       "      <td>775</td>\n",
       "      <td>357</td>\n",
       "      <td>249</td>\n",
       "      <td>A</td>\n",
       "      <td>W</td>\n",
       "      <td>408</td>\n",
       "      <td>4</td>\n",
       "      <td>3</td>\n",
       "      <td>1000.0</td>\n",
       "      <td>A</td>\n",
       "    </tr>\n",
       "  </tbody>\n",
       "</table>\n",
       "<p>322 rows × 20 columns</p>\n",
       "</div>"
      ],
      "text/plain": [
       "     AtBat  Hits  HmRun  Runs  RBI  Walks  Years  CAtBat  CHits  CHmRun  \\\n",
       "0      293    66      1    30   29     14      1     293     66       1   \n",
       "1      315    81      7    24   38     39     14    3449    835      69   \n",
       "2      479   130     18    66   72     76      3    1624    457      63   \n",
       "3      496   141     20    65   78     37     11    5628   1575     225   \n",
       "4      321    87     10    39   42     30      2     396    101      12   \n",
       "..     ...   ...    ...   ...  ...    ...    ...     ...    ...     ...   \n",
       "317    497   127      7    65   48     37      5    2703    806      32   \n",
       "318    492   136      5    76   50     94     12    5511   1511      39   \n",
       "319    475   126      3    61   43     52      6    1700    433       7   \n",
       "320    573   144      9    85   60     78      8    3198    857      97   \n",
       "321    631   170      9    77   44     31     11    4908   1457      30   \n",
       "\n",
       "     CRuns  CRBI  CWalks League Division  PutOuts  Assists  Errors  Salary  \\\n",
       "0       30    29      14      A        E      446       33      20     NaN   \n",
       "1      321   414     375      N        W      632       43      10   475.0   \n",
       "2      224   266     263      A        W      880       82      14   480.0   \n",
       "3      828   838     354      N        E      200       11       3   500.0   \n",
       "4       48    46      33      N        E      805       40       4    91.5   \n",
       "..     ...   ...     ...    ...      ...      ...      ...     ...     ...   \n",
       "317    379   311     138      N        E      325        9       3   700.0   \n",
       "318    897   451     875      A        E      313      381      20   875.0   \n",
       "319    217    93     146      A        W       37      113       7   385.0   \n",
       "320    470   420     332      A        E     1314      131      12   960.0   \n",
       "321    775   357     249      A        W      408        4       3  1000.0   \n",
       "\n",
       "    NewLeague  \n",
       "0           A  \n",
       "1           N  \n",
       "2           A  \n",
       "3           N  \n",
       "4           N  \n",
       "..        ...  \n",
       "317         N  \n",
       "318         A  \n",
       "319         A  \n",
       "320         A  \n",
       "321         A  \n",
       "\n",
       "[322 rows x 20 columns]"
      ]
     },
     "execution_count": 4,
     "metadata": {},
     "output_type": "execute_result"
    }
   ],
   "source": [
    "hitters_data"
   ]
  },
  {
   "cell_type": "code",
   "execution_count": 5,
   "id": "responsible-spain",
   "metadata": {},
   "outputs": [
    {
     "name": "stdout",
     "output_type": "stream",
     "text": [
      "<class 'pandas.core.frame.DataFrame'>\n",
      "RangeIndex: 322 entries, 0 to 321\n",
      "Data columns (total 20 columns):\n",
      " #   Column     Non-Null Count  Dtype  \n",
      "---  ------     --------------  -----  \n",
      " 0   AtBat      322 non-null    int64  \n",
      " 1   Hits       322 non-null    int64  \n",
      " 2   HmRun      322 non-null    int64  \n",
      " 3   Runs       322 non-null    int64  \n",
      " 4   RBI        322 non-null    int64  \n",
      " 5   Walks      322 non-null    int64  \n",
      " 6   Years      322 non-null    int64  \n",
      " 7   CAtBat     322 non-null    int64  \n",
      " 8   CHits      322 non-null    int64  \n",
      " 9   CHmRun     322 non-null    int64  \n",
      " 10  CRuns      322 non-null    int64  \n",
      " 11  CRBI       322 non-null    int64  \n",
      " 12  CWalks     322 non-null    int64  \n",
      " 13  League     322 non-null    object \n",
      " 14  Division   322 non-null    object \n",
      " 15  PutOuts    322 non-null    int64  \n",
      " 16  Assists    322 non-null    int64  \n",
      " 17  Errors     322 non-null    int64  \n",
      " 18  Salary     263 non-null    float64\n",
      " 19  NewLeague  322 non-null    object \n",
      "dtypes: float64(1), int64(16), object(3)\n",
      "memory usage: 50.4+ KB\n"
     ]
    }
   ],
   "source": [
    "hitters_data.info()"
   ]
  },
  {
   "cell_type": "code",
   "execution_count": 6,
   "id": "bulgarian-client",
   "metadata": {},
   "outputs": [
    {
     "data": {
      "text/html": [
       "<div>\n",
       "<style scoped>\n",
       "    .dataframe tbody tr th:only-of-type {\n",
       "        vertical-align: middle;\n",
       "    }\n",
       "\n",
       "    .dataframe tbody tr th {\n",
       "        vertical-align: top;\n",
       "    }\n",
       "\n",
       "    .dataframe thead th {\n",
       "        text-align: right;\n",
       "    }\n",
       "</style>\n",
       "<table border=\"1\" class=\"dataframe\">\n",
       "  <thead>\n",
       "    <tr style=\"text-align: right;\">\n",
       "      <th></th>\n",
       "      <th>AtBat</th>\n",
       "      <th>Hits</th>\n",
       "      <th>HmRun</th>\n",
       "      <th>Runs</th>\n",
       "      <th>RBI</th>\n",
       "      <th>Walks</th>\n",
       "      <th>Years</th>\n",
       "      <th>CAtBat</th>\n",
       "      <th>CHits</th>\n",
       "      <th>CHmRun</th>\n",
       "      <th>CRuns</th>\n",
       "      <th>CRBI</th>\n",
       "      <th>CWalks</th>\n",
       "      <th>PutOuts</th>\n",
       "      <th>Assists</th>\n",
       "      <th>Errors</th>\n",
       "      <th>Salary</th>\n",
       "    </tr>\n",
       "  </thead>\n",
       "  <tbody>\n",
       "    <tr>\n",
       "      <th>count</th>\n",
       "      <td>322.000000</td>\n",
       "      <td>322.000000</td>\n",
       "      <td>322.000000</td>\n",
       "      <td>322.000000</td>\n",
       "      <td>322.000000</td>\n",
       "      <td>322.000000</td>\n",
       "      <td>322.000000</td>\n",
       "      <td>322.00000</td>\n",
       "      <td>322.000000</td>\n",
       "      <td>322.000000</td>\n",
       "      <td>322.000000</td>\n",
       "      <td>322.000000</td>\n",
       "      <td>322.000000</td>\n",
       "      <td>322.000000</td>\n",
       "      <td>322.000000</td>\n",
       "      <td>322.000000</td>\n",
       "      <td>263.000000</td>\n",
       "    </tr>\n",
       "    <tr>\n",
       "      <th>mean</th>\n",
       "      <td>380.928571</td>\n",
       "      <td>101.024845</td>\n",
       "      <td>10.770186</td>\n",
       "      <td>50.909938</td>\n",
       "      <td>48.027950</td>\n",
       "      <td>38.742236</td>\n",
       "      <td>7.444099</td>\n",
       "      <td>2648.68323</td>\n",
       "      <td>717.571429</td>\n",
       "      <td>69.490683</td>\n",
       "      <td>358.795031</td>\n",
       "      <td>330.118012</td>\n",
       "      <td>260.239130</td>\n",
       "      <td>288.937888</td>\n",
       "      <td>106.913043</td>\n",
       "      <td>8.040373</td>\n",
       "      <td>535.925882</td>\n",
       "    </tr>\n",
       "    <tr>\n",
       "      <th>std</th>\n",
       "      <td>153.404981</td>\n",
       "      <td>46.454741</td>\n",
       "      <td>8.709037</td>\n",
       "      <td>26.024095</td>\n",
       "      <td>26.166895</td>\n",
       "      <td>21.639327</td>\n",
       "      <td>4.926087</td>\n",
       "      <td>2324.20587</td>\n",
       "      <td>654.472627</td>\n",
       "      <td>86.266061</td>\n",
       "      <td>334.105886</td>\n",
       "      <td>333.219617</td>\n",
       "      <td>267.058085</td>\n",
       "      <td>280.704614</td>\n",
       "      <td>136.854876</td>\n",
       "      <td>6.368359</td>\n",
       "      <td>451.118681</td>\n",
       "    </tr>\n",
       "    <tr>\n",
       "      <th>min</th>\n",
       "      <td>16.000000</td>\n",
       "      <td>1.000000</td>\n",
       "      <td>0.000000</td>\n",
       "      <td>0.000000</td>\n",
       "      <td>0.000000</td>\n",
       "      <td>0.000000</td>\n",
       "      <td>1.000000</td>\n",
       "      <td>19.00000</td>\n",
       "      <td>4.000000</td>\n",
       "      <td>0.000000</td>\n",
       "      <td>1.000000</td>\n",
       "      <td>0.000000</td>\n",
       "      <td>0.000000</td>\n",
       "      <td>0.000000</td>\n",
       "      <td>0.000000</td>\n",
       "      <td>0.000000</td>\n",
       "      <td>67.500000</td>\n",
       "    </tr>\n",
       "    <tr>\n",
       "      <th>25%</th>\n",
       "      <td>255.250000</td>\n",
       "      <td>64.000000</td>\n",
       "      <td>4.000000</td>\n",
       "      <td>30.250000</td>\n",
       "      <td>28.000000</td>\n",
       "      <td>22.000000</td>\n",
       "      <td>4.000000</td>\n",
       "      <td>816.75000</td>\n",
       "      <td>209.000000</td>\n",
       "      <td>14.000000</td>\n",
       "      <td>100.250000</td>\n",
       "      <td>88.750000</td>\n",
       "      <td>67.250000</td>\n",
       "      <td>109.250000</td>\n",
       "      <td>7.000000</td>\n",
       "      <td>3.000000</td>\n",
       "      <td>190.000000</td>\n",
       "    </tr>\n",
       "    <tr>\n",
       "      <th>50%</th>\n",
       "      <td>379.500000</td>\n",
       "      <td>96.000000</td>\n",
       "      <td>8.000000</td>\n",
       "      <td>48.000000</td>\n",
       "      <td>44.000000</td>\n",
       "      <td>35.000000</td>\n",
       "      <td>6.000000</td>\n",
       "      <td>1928.00000</td>\n",
       "      <td>508.000000</td>\n",
       "      <td>37.500000</td>\n",
       "      <td>247.000000</td>\n",
       "      <td>220.500000</td>\n",
       "      <td>170.500000</td>\n",
       "      <td>212.000000</td>\n",
       "      <td>39.500000</td>\n",
       "      <td>6.000000</td>\n",
       "      <td>425.000000</td>\n",
       "    </tr>\n",
       "    <tr>\n",
       "      <th>75%</th>\n",
       "      <td>512.000000</td>\n",
       "      <td>137.000000</td>\n",
       "      <td>16.000000</td>\n",
       "      <td>69.000000</td>\n",
       "      <td>64.750000</td>\n",
       "      <td>53.000000</td>\n",
       "      <td>11.000000</td>\n",
       "      <td>3924.25000</td>\n",
       "      <td>1059.250000</td>\n",
       "      <td>90.000000</td>\n",
       "      <td>526.250000</td>\n",
       "      <td>426.250000</td>\n",
       "      <td>339.250000</td>\n",
       "      <td>325.000000</td>\n",
       "      <td>166.000000</td>\n",
       "      <td>11.000000</td>\n",
       "      <td>750.000000</td>\n",
       "    </tr>\n",
       "    <tr>\n",
       "      <th>max</th>\n",
       "      <td>687.000000</td>\n",
       "      <td>238.000000</td>\n",
       "      <td>40.000000</td>\n",
       "      <td>130.000000</td>\n",
       "      <td>121.000000</td>\n",
       "      <td>105.000000</td>\n",
       "      <td>24.000000</td>\n",
       "      <td>14053.00000</td>\n",
       "      <td>4256.000000</td>\n",
       "      <td>548.000000</td>\n",
       "      <td>2165.000000</td>\n",
       "      <td>1659.000000</td>\n",
       "      <td>1566.000000</td>\n",
       "      <td>1378.000000</td>\n",
       "      <td>492.000000</td>\n",
       "      <td>32.000000</td>\n",
       "      <td>2460.000000</td>\n",
       "    </tr>\n",
       "  </tbody>\n",
       "</table>\n",
       "</div>"
      ],
      "text/plain": [
       "            AtBat        Hits       HmRun        Runs         RBI       Walks  \\\n",
       "count  322.000000  322.000000  322.000000  322.000000  322.000000  322.000000   \n",
       "mean   380.928571  101.024845   10.770186   50.909938   48.027950   38.742236   \n",
       "std    153.404981   46.454741    8.709037   26.024095   26.166895   21.639327   \n",
       "min     16.000000    1.000000    0.000000    0.000000    0.000000    0.000000   \n",
       "25%    255.250000   64.000000    4.000000   30.250000   28.000000   22.000000   \n",
       "50%    379.500000   96.000000    8.000000   48.000000   44.000000   35.000000   \n",
       "75%    512.000000  137.000000   16.000000   69.000000   64.750000   53.000000   \n",
       "max    687.000000  238.000000   40.000000  130.000000  121.000000  105.000000   \n",
       "\n",
       "            Years       CAtBat        CHits      CHmRun        CRuns  \\\n",
       "count  322.000000    322.00000   322.000000  322.000000   322.000000   \n",
       "mean     7.444099   2648.68323   717.571429   69.490683   358.795031   \n",
       "std      4.926087   2324.20587   654.472627   86.266061   334.105886   \n",
       "min      1.000000     19.00000     4.000000    0.000000     1.000000   \n",
       "25%      4.000000    816.75000   209.000000   14.000000   100.250000   \n",
       "50%      6.000000   1928.00000   508.000000   37.500000   247.000000   \n",
       "75%     11.000000   3924.25000  1059.250000   90.000000   526.250000   \n",
       "max     24.000000  14053.00000  4256.000000  548.000000  2165.000000   \n",
       "\n",
       "              CRBI       CWalks      PutOuts     Assists      Errors  \\\n",
       "count   322.000000   322.000000   322.000000  322.000000  322.000000   \n",
       "mean    330.118012   260.239130   288.937888  106.913043    8.040373   \n",
       "std     333.219617   267.058085   280.704614  136.854876    6.368359   \n",
       "min       0.000000     0.000000     0.000000    0.000000    0.000000   \n",
       "25%      88.750000    67.250000   109.250000    7.000000    3.000000   \n",
       "50%     220.500000   170.500000   212.000000   39.500000    6.000000   \n",
       "75%     426.250000   339.250000   325.000000  166.000000   11.000000   \n",
       "max    1659.000000  1566.000000  1378.000000  492.000000   32.000000   \n",
       "\n",
       "            Salary  \n",
       "count   263.000000  \n",
       "mean    535.925882  \n",
       "std     451.118681  \n",
       "min      67.500000  \n",
       "25%     190.000000  \n",
       "50%     425.000000  \n",
       "75%     750.000000  \n",
       "max    2460.000000  "
      ]
     },
     "execution_count": 6,
     "metadata": {},
     "output_type": "execute_result"
    }
   ],
   "source": [
    "hitters_data.describe()"
   ]
  },
  {
   "cell_type": "code",
   "execution_count": 7,
   "id": "quarterly-motor",
   "metadata": {},
   "outputs": [],
   "source": [
    "hitters_data = hitters_data.dropna()"
   ]
  },
  {
   "cell_type": "code",
   "execution_count": 8,
   "id": "fifty-sound",
   "metadata": {},
   "outputs": [
    {
     "name": "stdout",
     "output_type": "stream",
     "text": [
      "<class 'pandas.core.frame.DataFrame'>\n",
      "Int64Index: 263 entries, 1 to 321\n",
      "Data columns (total 20 columns):\n",
      " #   Column     Non-Null Count  Dtype  \n",
      "---  ------     --------------  -----  \n",
      " 0   AtBat      263 non-null    int64  \n",
      " 1   Hits       263 non-null    int64  \n",
      " 2   HmRun      263 non-null    int64  \n",
      " 3   Runs       263 non-null    int64  \n",
      " 4   RBI        263 non-null    int64  \n",
      " 5   Walks      263 non-null    int64  \n",
      " 6   Years      263 non-null    int64  \n",
      " 7   CAtBat     263 non-null    int64  \n",
      " 8   CHits      263 non-null    int64  \n",
      " 9   CHmRun     263 non-null    int64  \n",
      " 10  CRuns      263 non-null    int64  \n",
      " 11  CRBI       263 non-null    int64  \n",
      " 12  CWalks     263 non-null    int64  \n",
      " 13  League     263 non-null    object \n",
      " 14  Division   263 non-null    object \n",
      " 15  PutOuts    263 non-null    int64  \n",
      " 16  Assists    263 non-null    int64  \n",
      " 17  Errors     263 non-null    int64  \n",
      " 18  Salary     263 non-null    float64\n",
      " 19  NewLeague  263 non-null    object \n",
      "dtypes: float64(1), int64(16), object(3)\n",
      "memory usage: 43.1+ KB\n"
     ]
    }
   ],
   "source": [
    "hitters_data.info()"
   ]
  },
  {
   "cell_type": "markdown",
   "id": "conditional-timeline",
   "metadata": {},
   "source": [
    "There are 263 datapoints. A total of 20 features are there in this dataset. There are no missing or null values. There are 3 categorical variables and others except one are int64 and that one variable is float64."
   ]
  },
  {
   "cell_type": "code",
   "execution_count": 9,
   "id": "private-neighborhood",
   "metadata": {},
   "outputs": [
    {
     "data": {
      "text/html": [
       "<div>\n",
       "<style scoped>\n",
       "    .dataframe tbody tr th:only-of-type {\n",
       "        vertical-align: middle;\n",
       "    }\n",
       "\n",
       "    .dataframe tbody tr th {\n",
       "        vertical-align: top;\n",
       "    }\n",
       "\n",
       "    .dataframe thead th {\n",
       "        text-align: right;\n",
       "    }\n",
       "</style>\n",
       "<table border=\"1\" class=\"dataframe\">\n",
       "  <thead>\n",
       "    <tr style=\"text-align: right;\">\n",
       "      <th></th>\n",
       "      <th>AtBat</th>\n",
       "      <th>Hits</th>\n",
       "      <th>HmRun</th>\n",
       "      <th>Runs</th>\n",
       "      <th>RBI</th>\n",
       "      <th>Walks</th>\n",
       "      <th>Years</th>\n",
       "      <th>CAtBat</th>\n",
       "      <th>CHits</th>\n",
       "      <th>CHmRun</th>\n",
       "      <th>CRuns</th>\n",
       "      <th>CRBI</th>\n",
       "      <th>CWalks</th>\n",
       "      <th>PutOuts</th>\n",
       "      <th>Assists</th>\n",
       "      <th>Errors</th>\n",
       "      <th>Salary</th>\n",
       "    </tr>\n",
       "  </thead>\n",
       "  <tbody>\n",
       "    <tr>\n",
       "      <th>count</th>\n",
       "      <td>263.000000</td>\n",
       "      <td>263.000000</td>\n",
       "      <td>263.000000</td>\n",
       "      <td>263.000000</td>\n",
       "      <td>263.000000</td>\n",
       "      <td>263.000000</td>\n",
       "      <td>263.000000</td>\n",
       "      <td>263.000000</td>\n",
       "      <td>263.000000</td>\n",
       "      <td>263.000000</td>\n",
       "      <td>263.000000</td>\n",
       "      <td>263.000000</td>\n",
       "      <td>263.000000</td>\n",
       "      <td>263.000000</td>\n",
       "      <td>263.000000</td>\n",
       "      <td>263.000000</td>\n",
       "      <td>263.000000</td>\n",
       "    </tr>\n",
       "    <tr>\n",
       "      <th>mean</th>\n",
       "      <td>403.642586</td>\n",
       "      <td>107.828897</td>\n",
       "      <td>11.619772</td>\n",
       "      <td>54.745247</td>\n",
       "      <td>51.486692</td>\n",
       "      <td>41.114068</td>\n",
       "      <td>7.311787</td>\n",
       "      <td>2657.543726</td>\n",
       "      <td>722.186312</td>\n",
       "      <td>69.239544</td>\n",
       "      <td>361.220532</td>\n",
       "      <td>330.418251</td>\n",
       "      <td>260.266160</td>\n",
       "      <td>290.711027</td>\n",
       "      <td>118.760456</td>\n",
       "      <td>8.593156</td>\n",
       "      <td>535.925882</td>\n",
       "    </tr>\n",
       "    <tr>\n",
       "      <th>std</th>\n",
       "      <td>147.307209</td>\n",
       "      <td>45.125326</td>\n",
       "      <td>8.757108</td>\n",
       "      <td>25.539816</td>\n",
       "      <td>25.882714</td>\n",
       "      <td>21.718056</td>\n",
       "      <td>4.793616</td>\n",
       "      <td>2286.582929</td>\n",
       "      <td>648.199644</td>\n",
       "      <td>82.197581</td>\n",
       "      <td>331.198571</td>\n",
       "      <td>323.367668</td>\n",
       "      <td>264.055868</td>\n",
       "      <td>279.934575</td>\n",
       "      <td>145.080577</td>\n",
       "      <td>6.606574</td>\n",
       "      <td>451.118681</td>\n",
       "    </tr>\n",
       "    <tr>\n",
       "      <th>min</th>\n",
       "      <td>19.000000</td>\n",
       "      <td>1.000000</td>\n",
       "      <td>0.000000</td>\n",
       "      <td>0.000000</td>\n",
       "      <td>0.000000</td>\n",
       "      <td>0.000000</td>\n",
       "      <td>1.000000</td>\n",
       "      <td>19.000000</td>\n",
       "      <td>4.000000</td>\n",
       "      <td>0.000000</td>\n",
       "      <td>2.000000</td>\n",
       "      <td>3.000000</td>\n",
       "      <td>1.000000</td>\n",
       "      <td>0.000000</td>\n",
       "      <td>0.000000</td>\n",
       "      <td>0.000000</td>\n",
       "      <td>67.500000</td>\n",
       "    </tr>\n",
       "    <tr>\n",
       "      <th>25%</th>\n",
       "      <td>282.500000</td>\n",
       "      <td>71.500000</td>\n",
       "      <td>5.000000</td>\n",
       "      <td>33.500000</td>\n",
       "      <td>30.000000</td>\n",
       "      <td>23.000000</td>\n",
       "      <td>4.000000</td>\n",
       "      <td>842.500000</td>\n",
       "      <td>212.000000</td>\n",
       "      <td>15.000000</td>\n",
       "      <td>105.500000</td>\n",
       "      <td>95.000000</td>\n",
       "      <td>71.000000</td>\n",
       "      <td>113.500000</td>\n",
       "      <td>8.000000</td>\n",
       "      <td>3.000000</td>\n",
       "      <td>190.000000</td>\n",
       "    </tr>\n",
       "    <tr>\n",
       "      <th>50%</th>\n",
       "      <td>413.000000</td>\n",
       "      <td>103.000000</td>\n",
       "      <td>9.000000</td>\n",
       "      <td>52.000000</td>\n",
       "      <td>47.000000</td>\n",
       "      <td>37.000000</td>\n",
       "      <td>6.000000</td>\n",
       "      <td>1931.000000</td>\n",
       "      <td>516.000000</td>\n",
       "      <td>40.000000</td>\n",
       "      <td>250.000000</td>\n",
       "      <td>230.000000</td>\n",
       "      <td>174.000000</td>\n",
       "      <td>224.000000</td>\n",
       "      <td>45.000000</td>\n",
       "      <td>7.000000</td>\n",
       "      <td>425.000000</td>\n",
       "    </tr>\n",
       "    <tr>\n",
       "      <th>75%</th>\n",
       "      <td>526.000000</td>\n",
       "      <td>141.500000</td>\n",
       "      <td>18.000000</td>\n",
       "      <td>73.000000</td>\n",
       "      <td>71.000000</td>\n",
       "      <td>57.000000</td>\n",
       "      <td>10.000000</td>\n",
       "      <td>3890.500000</td>\n",
       "      <td>1054.000000</td>\n",
       "      <td>92.500000</td>\n",
       "      <td>497.500000</td>\n",
       "      <td>424.500000</td>\n",
       "      <td>328.500000</td>\n",
       "      <td>322.500000</td>\n",
       "      <td>192.000000</td>\n",
       "      <td>13.000000</td>\n",
       "      <td>750.000000</td>\n",
       "    </tr>\n",
       "    <tr>\n",
       "      <th>max</th>\n",
       "      <td>687.000000</td>\n",
       "      <td>238.000000</td>\n",
       "      <td>40.000000</td>\n",
       "      <td>130.000000</td>\n",
       "      <td>121.000000</td>\n",
       "      <td>105.000000</td>\n",
       "      <td>24.000000</td>\n",
       "      <td>14053.000000</td>\n",
       "      <td>4256.000000</td>\n",
       "      <td>548.000000</td>\n",
       "      <td>2165.000000</td>\n",
       "      <td>1659.000000</td>\n",
       "      <td>1566.000000</td>\n",
       "      <td>1377.000000</td>\n",
       "      <td>492.000000</td>\n",
       "      <td>32.000000</td>\n",
       "      <td>2460.000000</td>\n",
       "    </tr>\n",
       "  </tbody>\n",
       "</table>\n",
       "</div>"
      ],
      "text/plain": [
       "            AtBat        Hits       HmRun        Runs         RBI       Walks  \\\n",
       "count  263.000000  263.000000  263.000000  263.000000  263.000000  263.000000   \n",
       "mean   403.642586  107.828897   11.619772   54.745247   51.486692   41.114068   \n",
       "std    147.307209   45.125326    8.757108   25.539816   25.882714   21.718056   \n",
       "min     19.000000    1.000000    0.000000    0.000000    0.000000    0.000000   \n",
       "25%    282.500000   71.500000    5.000000   33.500000   30.000000   23.000000   \n",
       "50%    413.000000  103.000000    9.000000   52.000000   47.000000   37.000000   \n",
       "75%    526.000000  141.500000   18.000000   73.000000   71.000000   57.000000   \n",
       "max    687.000000  238.000000   40.000000  130.000000  121.000000  105.000000   \n",
       "\n",
       "            Years        CAtBat        CHits      CHmRun        CRuns  \\\n",
       "count  263.000000    263.000000   263.000000  263.000000   263.000000   \n",
       "mean     7.311787   2657.543726   722.186312   69.239544   361.220532   \n",
       "std      4.793616   2286.582929   648.199644   82.197581   331.198571   \n",
       "min      1.000000     19.000000     4.000000    0.000000     2.000000   \n",
       "25%      4.000000    842.500000   212.000000   15.000000   105.500000   \n",
       "50%      6.000000   1931.000000   516.000000   40.000000   250.000000   \n",
       "75%     10.000000   3890.500000  1054.000000   92.500000   497.500000   \n",
       "max     24.000000  14053.000000  4256.000000  548.000000  2165.000000   \n",
       "\n",
       "              CRBI       CWalks      PutOuts     Assists      Errors  \\\n",
       "count   263.000000   263.000000   263.000000  263.000000  263.000000   \n",
       "mean    330.418251   260.266160   290.711027  118.760456    8.593156   \n",
       "std     323.367668   264.055868   279.934575  145.080577    6.606574   \n",
       "min       3.000000     1.000000     0.000000    0.000000    0.000000   \n",
       "25%      95.000000    71.000000   113.500000    8.000000    3.000000   \n",
       "50%     230.000000   174.000000   224.000000   45.000000    7.000000   \n",
       "75%     424.500000   328.500000   322.500000  192.000000   13.000000   \n",
       "max    1659.000000  1566.000000  1377.000000  492.000000   32.000000   \n",
       "\n",
       "            Salary  \n",
       "count   263.000000  \n",
       "mean    535.925882  \n",
       "std     451.118681  \n",
       "min      67.500000  \n",
       "25%     190.000000  \n",
       "50%     425.000000  \n",
       "75%     750.000000  \n",
       "max    2460.000000  "
      ]
     },
     "execution_count": 9,
     "metadata": {},
     "output_type": "execute_result"
    }
   ],
   "source": [
    "hitters_data.describe()"
   ]
  },
  {
   "cell_type": "markdown",
   "id": "modular-vertex",
   "metadata": {},
   "source": [
    "There are 263 datapoints"
   ]
  },
  {
   "cell_type": "code",
   "execution_count": 10,
   "id": "mexican-seminar",
   "metadata": {},
   "outputs": [
    {
     "data": {
      "text/html": [
       "<div>\n",
       "<style scoped>\n",
       "    .dataframe tbody tr th:only-of-type {\n",
       "        vertical-align: middle;\n",
       "    }\n",
       "\n",
       "    .dataframe tbody tr th {\n",
       "        vertical-align: top;\n",
       "    }\n",
       "\n",
       "    .dataframe thead th {\n",
       "        text-align: right;\n",
       "    }\n",
       "</style>\n",
       "<table border=\"1\" class=\"dataframe\">\n",
       "  <thead>\n",
       "    <tr style=\"text-align: right;\">\n",
       "      <th></th>\n",
       "      <th>AtBat</th>\n",
       "      <th>Hits</th>\n",
       "      <th>HmRun</th>\n",
       "      <th>Runs</th>\n",
       "      <th>RBI</th>\n",
       "      <th>Walks</th>\n",
       "      <th>Years</th>\n",
       "      <th>CAtBat</th>\n",
       "      <th>CHits</th>\n",
       "      <th>CHmRun</th>\n",
       "      <th>CRuns</th>\n",
       "      <th>CRBI</th>\n",
       "      <th>CWalks</th>\n",
       "      <th>League</th>\n",
       "      <th>Division</th>\n",
       "      <th>PutOuts</th>\n",
       "      <th>Assists</th>\n",
       "      <th>Errors</th>\n",
       "      <th>Salary</th>\n",
       "      <th>NewLeague</th>\n",
       "    </tr>\n",
       "  </thead>\n",
       "  <tbody>\n",
       "    <tr>\n",
       "      <th>1</th>\n",
       "      <td>315</td>\n",
       "      <td>81</td>\n",
       "      <td>7</td>\n",
       "      <td>24</td>\n",
       "      <td>38</td>\n",
       "      <td>39</td>\n",
       "      <td>14</td>\n",
       "      <td>3449</td>\n",
       "      <td>835</td>\n",
       "      <td>69</td>\n",
       "      <td>321</td>\n",
       "      <td>414</td>\n",
       "      <td>375</td>\n",
       "      <td>N</td>\n",
       "      <td>W</td>\n",
       "      <td>632</td>\n",
       "      <td>43</td>\n",
       "      <td>10</td>\n",
       "      <td>475.0</td>\n",
       "      <td>N</td>\n",
       "    </tr>\n",
       "    <tr>\n",
       "      <th>2</th>\n",
       "      <td>479</td>\n",
       "      <td>130</td>\n",
       "      <td>18</td>\n",
       "      <td>66</td>\n",
       "      <td>72</td>\n",
       "      <td>76</td>\n",
       "      <td>3</td>\n",
       "      <td>1624</td>\n",
       "      <td>457</td>\n",
       "      <td>63</td>\n",
       "      <td>224</td>\n",
       "      <td>266</td>\n",
       "      <td>263</td>\n",
       "      <td>A</td>\n",
       "      <td>W</td>\n",
       "      <td>880</td>\n",
       "      <td>82</td>\n",
       "      <td>14</td>\n",
       "      <td>480.0</td>\n",
       "      <td>A</td>\n",
       "    </tr>\n",
       "    <tr>\n",
       "      <th>3</th>\n",
       "      <td>496</td>\n",
       "      <td>141</td>\n",
       "      <td>20</td>\n",
       "      <td>65</td>\n",
       "      <td>78</td>\n",
       "      <td>37</td>\n",
       "      <td>11</td>\n",
       "      <td>5628</td>\n",
       "      <td>1575</td>\n",
       "      <td>225</td>\n",
       "      <td>828</td>\n",
       "      <td>838</td>\n",
       "      <td>354</td>\n",
       "      <td>N</td>\n",
       "      <td>E</td>\n",
       "      <td>200</td>\n",
       "      <td>11</td>\n",
       "      <td>3</td>\n",
       "      <td>500.0</td>\n",
       "      <td>N</td>\n",
       "    </tr>\n",
       "    <tr>\n",
       "      <th>4</th>\n",
       "      <td>321</td>\n",
       "      <td>87</td>\n",
       "      <td>10</td>\n",
       "      <td>39</td>\n",
       "      <td>42</td>\n",
       "      <td>30</td>\n",
       "      <td>2</td>\n",
       "      <td>396</td>\n",
       "      <td>101</td>\n",
       "      <td>12</td>\n",
       "      <td>48</td>\n",
       "      <td>46</td>\n",
       "      <td>33</td>\n",
       "      <td>N</td>\n",
       "      <td>E</td>\n",
       "      <td>805</td>\n",
       "      <td>40</td>\n",
       "      <td>4</td>\n",
       "      <td>91.5</td>\n",
       "      <td>N</td>\n",
       "    </tr>\n",
       "    <tr>\n",
       "      <th>5</th>\n",
       "      <td>594</td>\n",
       "      <td>169</td>\n",
       "      <td>4</td>\n",
       "      <td>74</td>\n",
       "      <td>51</td>\n",
       "      <td>35</td>\n",
       "      <td>11</td>\n",
       "      <td>4408</td>\n",
       "      <td>1133</td>\n",
       "      <td>19</td>\n",
       "      <td>501</td>\n",
       "      <td>336</td>\n",
       "      <td>194</td>\n",
       "      <td>A</td>\n",
       "      <td>W</td>\n",
       "      <td>282</td>\n",
       "      <td>421</td>\n",
       "      <td>25</td>\n",
       "      <td>750.0</td>\n",
       "      <td>A</td>\n",
       "    </tr>\n",
       "  </tbody>\n",
       "</table>\n",
       "</div>"
      ],
      "text/plain": [
       "   AtBat  Hits  HmRun  Runs  RBI  Walks  Years  CAtBat  CHits  CHmRun  CRuns  \\\n",
       "1    315    81      7    24   38     39     14    3449    835      69    321   \n",
       "2    479   130     18    66   72     76      3    1624    457      63    224   \n",
       "3    496   141     20    65   78     37     11    5628   1575     225    828   \n",
       "4    321    87     10    39   42     30      2     396    101      12     48   \n",
       "5    594   169      4    74   51     35     11    4408   1133      19    501   \n",
       "\n",
       "   CRBI  CWalks League Division  PutOuts  Assists  Errors  Salary NewLeague  \n",
       "1   414     375      N        W      632       43      10   475.0         N  \n",
       "2   266     263      A        W      880       82      14   480.0         A  \n",
       "3   838     354      N        E      200       11       3   500.0         N  \n",
       "4    46      33      N        E      805       40       4    91.5         N  \n",
       "5   336     194      A        W      282      421      25   750.0         A  "
      ]
     },
     "execution_count": 10,
     "metadata": {},
     "output_type": "execute_result"
    }
   ],
   "source": [
    "hitters_data.head()"
   ]
  },
  {
   "cell_type": "markdown",
   "id": "cutting-trick",
   "metadata": {},
   "source": [
    "There are 15 variables in this dataset"
   ]
  },
  {
   "cell_type": "code",
   "execution_count": 11,
   "id": "instructional-understanding",
   "metadata": {},
   "outputs": [
    {
     "data": {
      "text/plain": [
       "W    134\n",
       "E    129\n",
       "Name: Division, dtype: int64"
      ]
     },
     "execution_count": 11,
     "metadata": {},
     "output_type": "execute_result"
    }
   ],
   "source": [
    "hitters_data['Division'].value_counts()"
   ]
  },
  {
   "cell_type": "code",
   "execution_count": 12,
   "id": "applicable-bryan",
   "metadata": {},
   "outputs": [
    {
     "name": "stdout",
     "output_type": "stream",
     "text": [
      "     AtBat  Hits  HmRun  Runs  RBI  Walks  Years  CAtBat  CHits  CHmRun  \\\n",
      "1      315    81      7    24   38     39     14    3449    835      69   \n",
      "2      479   130     18    66   72     76      3    1624    457      63   \n",
      "3      496   141     20    65   78     37     11    5628   1575     225   \n",
      "4      321    87     10    39   42     30      2     396    101      12   \n",
      "5      594   169      4    74   51     35     11    4408   1133      19   \n",
      "..     ...   ...    ...   ...  ...    ...    ...     ...    ...     ...   \n",
      "317    497   127      7    65   48     37      5    2703    806      32   \n",
      "318    492   136      5    76   50     94     12    5511   1511      39   \n",
      "319    475   126      3    61   43     52      6    1700    433       7   \n",
      "320    573   144      9    85   60     78      8    3198    857      97   \n",
      "321    631   170      9    77   44     31     11    4908   1457      30   \n",
      "\n",
      "     CRuns  CRBI  CWalks League  Division  PutOuts  Assists  Errors  Salary  \\\n",
      "1      321   414     375      N         0      632       43      10   475.0   \n",
      "2      224   266     263      A         0      880       82      14   480.0   \n",
      "3      828   838     354      N         1      200       11       3   500.0   \n",
      "4       48    46      33      N         1      805       40       4    91.5   \n",
      "5      501   336     194      A         0      282      421      25   750.0   \n",
      "..     ...   ...     ...    ...       ...      ...      ...     ...     ...   \n",
      "317    379   311     138      N         1      325        9       3   700.0   \n",
      "318    897   451     875      A         1      313      381      20   875.0   \n",
      "319    217    93     146      A         0       37      113       7   385.0   \n",
      "320    470   420     332      A         1     1314      131      12   960.0   \n",
      "321    775   357     249      A         0      408        4       3  1000.0   \n",
      "\n",
      "    NewLeague  \n",
      "1           N  \n",
      "2           A  \n",
      "3           N  \n",
      "4           N  \n",
      "5           A  \n",
      "..        ...  \n",
      "317         N  \n",
      "318         A  \n",
      "319         A  \n",
      "320         A  \n",
      "321         A  \n",
      "\n",
      "[263 rows x 20 columns]\n"
     ]
    }
   ],
   "source": [
    "hitters_data['Division']= pd.Categorical(hitters_data['Division'],['W','E'])\n",
    "hitters_data['Division']= hitters_data['Division'].cat.codes\n",
    "print(hitters_data)"
   ]
  },
  {
   "cell_type": "code",
   "execution_count": 13,
   "id": "consecutive-bedroom",
   "metadata": {},
   "outputs": [
    {
     "data": {
      "text/plain": [
       "A    139\n",
       "N    124\n",
       "Name: League, dtype: int64"
      ]
     },
     "execution_count": 13,
     "metadata": {},
     "output_type": "execute_result"
    }
   ],
   "source": [
    "hitters_data['League'].value_counts()"
   ]
  },
  {
   "cell_type": "code",
   "execution_count": 14,
   "id": "surrounded-palmer",
   "metadata": {},
   "outputs": [
    {
     "name": "stdout",
     "output_type": "stream",
     "text": [
      "     AtBat  Hits  HmRun  Runs  RBI  Walks  Years  CAtBat  CHits  CHmRun  \\\n",
      "1      315    81      7    24   38     39     14    3449    835      69   \n",
      "2      479   130     18    66   72     76      3    1624    457      63   \n",
      "3      496   141     20    65   78     37     11    5628   1575     225   \n",
      "4      321    87     10    39   42     30      2     396    101      12   \n",
      "5      594   169      4    74   51     35     11    4408   1133      19   \n",
      "..     ...   ...    ...   ...  ...    ...    ...     ...    ...     ...   \n",
      "317    497   127      7    65   48     37      5    2703    806      32   \n",
      "318    492   136      5    76   50     94     12    5511   1511      39   \n",
      "319    475   126      3    61   43     52      6    1700    433       7   \n",
      "320    573   144      9    85   60     78      8    3198    857      97   \n",
      "321    631   170      9    77   44     31     11    4908   1457      30   \n",
      "\n",
      "     CRuns  CRBI  CWalks  League  Division  PutOuts  Assists  Errors  Salary  \\\n",
      "1      321   414     375       1         0      632       43      10   475.0   \n",
      "2      224   266     263       0         0      880       82      14   480.0   \n",
      "3      828   838     354       1         1      200       11       3   500.0   \n",
      "4       48    46      33       1         1      805       40       4    91.5   \n",
      "5      501   336     194       0         0      282      421      25   750.0   \n",
      "..     ...   ...     ...     ...       ...      ...      ...     ...     ...   \n",
      "317    379   311     138       1         1      325        9       3   700.0   \n",
      "318    897   451     875       0         1      313      381      20   875.0   \n",
      "319    217    93     146       0         0       37      113       7   385.0   \n",
      "320    470   420     332       0         1     1314      131      12   960.0   \n",
      "321    775   357     249       0         0      408        4       3  1000.0   \n",
      "\n",
      "    NewLeague  \n",
      "1           N  \n",
      "2           A  \n",
      "3           N  \n",
      "4           N  \n",
      "5           A  \n",
      "..        ...  \n",
      "317         N  \n",
      "318         A  \n",
      "319         A  \n",
      "320         A  \n",
      "321         A  \n",
      "\n",
      "[263 rows x 20 columns]\n"
     ]
    }
   ],
   "source": [
    "hitters_data['League']= pd.Categorical(hitters_data['League'],['A','N'])\n",
    "hitters_data['League']= hitters_data['League'].cat.codes\n",
    "print(hitters_data)"
   ]
  },
  {
   "cell_type": "code",
   "execution_count": 15,
   "id": "sharp-marriage",
   "metadata": {},
   "outputs": [
    {
     "data": {
      "text/plain": [
       "A    141\n",
       "N    122\n",
       "Name: NewLeague, dtype: int64"
      ]
     },
     "execution_count": 15,
     "metadata": {},
     "output_type": "execute_result"
    }
   ],
   "source": [
    "hitters_data['NewLeague'].value_counts()"
   ]
  },
  {
   "cell_type": "code",
   "execution_count": 16,
   "id": "opposed-crawford",
   "metadata": {},
   "outputs": [
    {
     "name": "stdout",
     "output_type": "stream",
     "text": [
      "     AtBat  Hits  HmRun  Runs  RBI  Walks  Years  CAtBat  CHits  CHmRun  \\\n",
      "1      315    81      7    24   38     39     14    3449    835      69   \n",
      "2      479   130     18    66   72     76      3    1624    457      63   \n",
      "3      496   141     20    65   78     37     11    5628   1575     225   \n",
      "4      321    87     10    39   42     30      2     396    101      12   \n",
      "5      594   169      4    74   51     35     11    4408   1133      19   \n",
      "..     ...   ...    ...   ...  ...    ...    ...     ...    ...     ...   \n",
      "317    497   127      7    65   48     37      5    2703    806      32   \n",
      "318    492   136      5    76   50     94     12    5511   1511      39   \n",
      "319    475   126      3    61   43     52      6    1700    433       7   \n",
      "320    573   144      9    85   60     78      8    3198    857      97   \n",
      "321    631   170      9    77   44     31     11    4908   1457      30   \n",
      "\n",
      "     CRuns  CRBI  CWalks  League  Division  PutOuts  Assists  Errors  Salary  \\\n",
      "1      321   414     375       1         0      632       43      10   475.0   \n",
      "2      224   266     263       0         0      880       82      14   480.0   \n",
      "3      828   838     354       1         1      200       11       3   500.0   \n",
      "4       48    46      33       1         1      805       40       4    91.5   \n",
      "5      501   336     194       0         0      282      421      25   750.0   \n",
      "..     ...   ...     ...     ...       ...      ...      ...     ...     ...   \n",
      "317    379   311     138       1         1      325        9       3   700.0   \n",
      "318    897   451     875       0         1      313      381      20   875.0   \n",
      "319    217    93     146       0         0       37      113       7   385.0   \n",
      "320    470   420     332       0         1     1314      131      12   960.0   \n",
      "321    775   357     249       0         0      408        4       3  1000.0   \n",
      "\n",
      "     NewLeague  \n",
      "1            1  \n",
      "2            0  \n",
      "3            1  \n",
      "4            1  \n",
      "5            0  \n",
      "..         ...  \n",
      "317          1  \n",
      "318          0  \n",
      "319          0  \n",
      "320          0  \n",
      "321          0  \n",
      "\n",
      "[263 rows x 20 columns]\n"
     ]
    }
   ],
   "source": [
    "hitters_data['NewLeague']= pd.Categorical(hitters_data['NewLeague'],['A','N'])\n",
    "hitters_data['NewLeague']= hitters_data['NewLeague'].cat.codes\n",
    "print(hitters_data)"
   ]
  },
  {
   "cell_type": "markdown",
   "id": "copyrighted-delhi",
   "metadata": {},
   "source": [
    "**(ii)**"
   ]
  },
  {
   "cell_type": "code",
   "execution_count": 17,
   "id": "sunrise-investing",
   "metadata": {},
   "outputs": [],
   "source": [
    "y = hitters_data[\"Salary\"]\n",
    "X = hitters_data.drop(\"Salary\", axis = 1)"
   ]
  },
  {
   "cell_type": "code",
   "execution_count": 18,
   "id": "bulgarian-certification",
   "metadata": {},
   "outputs": [],
   "source": [
    "from sklearn.model_selection import train_test_split\n",
    "\n",
    "from sklearn.linear_model import LinearRegression\n",
    "from sklearn.linear_model import Ridge\n",
    "from sklearn.linear_model import Lasso\n",
    "\n",
    "from sklearn.metrics import mean_squared_error"
   ]
  },
  {
   "cell_type": "code",
   "execution_count": 19,
   "id": "authorized-allen",
   "metadata": {},
   "outputs": [
    {
     "name": "stdout",
     "output_type": "stream",
     "text": [
      "(210, 19) (53, 19)\n",
      "(210,) (53,)\n"
     ]
    }
   ],
   "source": [
    "X_train, X_val, y_train, y_val  = train_test_split(X, y, test_size = 0.2, random_state = 1)\n",
    "print(X_train.shape, X_val.shape)\n",
    "print(y_train.shape, y_val.shape)"
   ]
  },
  {
   "cell_type": "markdown",
   "id": "essential-reason",
   "metadata": {},
   "source": [
    "**(iii)**"
   ]
  },
  {
   "cell_type": "code",
   "execution_count": 20,
   "id": "several-environment",
   "metadata": {},
   "outputs": [
    {
     "data": {
      "text/plain": [
       "LinearRegression()"
      ]
     },
     "execution_count": 20,
     "metadata": {},
     "output_type": "execute_result"
    }
   ],
   "source": [
    "# Using Linear Regression\n",
    "rgr = LinearRegression()\n",
    "rgr.fit(X_train, y_train)"
   ]
  },
  {
   "cell_type": "code",
   "execution_count": 21,
   "id": "ambient-liver",
   "metadata": {},
   "outputs": [],
   "source": [
    "predictions = rgr.predict(X_val)"
   ]
  },
  {
   "cell_type": "code",
   "execution_count": 22,
   "id": "sustainable-lover",
   "metadata": {},
   "outputs": [
    {
     "name": "stdout",
     "output_type": "stream",
     "text": [
      "MSE: 133595.033054053\n"
     ]
    }
   ],
   "source": [
    "print(\"MSE:\", mean_squared_error(y_val,predictions))"
   ]
  },
  {
   "cell_type": "code",
   "execution_count": 23,
   "id": "filled-colorado",
   "metadata": {},
   "outputs": [
    {
     "data": {
      "text/plain": [
       "Ridge(alpha=1)"
      ]
     },
     "execution_count": 23,
     "metadata": {},
     "output_type": "execute_result"
    }
   ],
   "source": [
    "# Using Ridge Regression\n",
    "ridge_rgr = Ridge(alpha=1)\n",
    "ridge_rgr.fit(X_train, y_train)"
   ]
  },
  {
   "cell_type": "code",
   "execution_count": 24,
   "id": "intelligent-memorabilia",
   "metadata": {},
   "outputs": [],
   "source": [
    "pred_ridge = ridge_rgr.predict(X_val)"
   ]
  },
  {
   "cell_type": "code",
   "execution_count": 25,
   "id": "interpreted-spank",
   "metadata": {},
   "outputs": [
    {
     "name": "stdout",
     "output_type": "stream",
     "text": [
      "MSE: 133584.2124367054\n"
     ]
    }
   ],
   "source": [
    "print(\"MSE:\", mean_squared_error(y_val,pred_ridge))"
   ]
  },
  {
   "cell_type": "code",
   "execution_count": 26,
   "id": "systematic-preserve",
   "metadata": {},
   "outputs": [
    {
     "data": {
      "text/plain": [
       "Lasso(alpha=0.1)"
      ]
     },
     "execution_count": 26,
     "metadata": {},
     "output_type": "execute_result"
    }
   ],
   "source": [
    "# Using Lasso Regression\n",
    "lasso_rgr = Lasso(alpha=0.1)\n",
    "lasso_rgr.fit(X_train, y_train)"
   ]
  },
  {
   "cell_type": "code",
   "execution_count": 27,
   "id": "ultimate-recording",
   "metadata": {},
   "outputs": [],
   "source": [
    "pred_lasso = lasso_rgr.predict(X_val)"
   ]
  },
  {
   "cell_type": "code",
   "execution_count": 28,
   "id": "committed-sullivan",
   "metadata": {},
   "outputs": [
    {
     "name": "stdout",
     "output_type": "stream",
     "text": [
      "MSE: 133709.7649227723\n"
     ]
    }
   ],
   "source": [
    "print(\"MSE:\", mean_squared_error(y_val,pred_lasso))"
   ]
  },
  {
   "cell_type": "markdown",
   "id": "australian-equation",
   "metadata": {},
   "source": [
    "**(iv)**"
   ]
  },
  {
   "cell_type": "code",
   "execution_count": 29,
   "id": "integrated-circuit",
   "metadata": {},
   "outputs": [],
   "source": [
    "from sklearn.preprocessing import scale"
   ]
  },
  {
   "cell_type": "code",
   "execution_count": 30,
   "id": "ranking-congo",
   "metadata": {},
   "outputs": [
    {
     "data": {
      "text/plain": [
       "Text(0, 0.5, 'coefficients')"
      ]
     },
     "execution_count": 30,
     "metadata": {},
     "output_type": "execute_result"
    },
    {
     "data": {
      "image/png": "[encoded data removed]",
      "text/plain": [
       "<Figure size 432x288 with 1 Axes>"
      ]
     },
     "metadata": {
      "needs_background": "light"
     },
     "output_type": "display_data"
    }
   ],
   "source": [
    "# Using different alphas and plotting normalized coefficients against alpha for Ridge Regression\n",
    "alphas = 10**np.linspace(10,-2,100)*0.5\n",
    "ridge = Ridge()\n",
    "coefs = []\n",
    "for a in alphas:\n",
    "    ridge.set_params(alpha=a)\n",
    "    ridge.fit(scale(X_train), y_train)\n",
    "    coefs.append(ridge.coef_)\n",
    "    \n",
    "ax = plt.gca()\n",
    "ax.plot(alphas, coefs)\n",
    "ax.set_xscale('log')\n",
    "ax.set_xlim(ax.get_xlim())\n",
    "plt.axis('tight')\n",
    "plt.xlabel('lambda')\n",
    "plt.ylabel('coefficients')"
   ]
  },
  {
   "cell_type": "code",
   "execution_count": 31,
   "id": "accessory-madness",
   "metadata": {},
   "outputs": [
    {
     "data": {
      "text/plain": [
       "Text(0, 0.5, 'coefficients')"
      ]
     },
     "execution_count": 31,
     "metadata": {},
     "output_type": "execute_result"
    },
    {
     "data": {
      "image/png": "[encoded data removed]",
      "text/plain": [
       "<Figure size 432x288 with 1 Axes>"
      ]
     },
     "metadata": {
      "needs_background": "light"
     },
     "output_type": "display_data"
    }
   ],
   "source": [
    "# Using different alphas and plotting normalized coefficients against alpha for Lasso Regression\n",
    "alphas = 10**np.linspace(10,-2,100)*0.5\n",
    "lasso = Lasso(max_iter=10000)\n",
    "coefs = []\n",
    "for a in alphas:\n",
    "    lasso.set_params(alpha=a)\n",
    "    lasso.fit(scale(X_train), y_train)\n",
    "    coefs.append(lasso.coef_)\n",
    "\n",
    "ax = plt.gca()\n",
    "ax.plot(alphas, coefs)\n",
    "ax.set_xscale('log')\n",
    "ax.set_xlim(ax.get_xlim())\n",
    "plt.axis('tight')\n",
    "plt.xlabel('lambda')\n",
    "plt.ylabel('coefficients')"
   ]
  },
  {
   "cell_type": "markdown",
   "id": "combined-merchandise",
   "metadata": {},
   "source": [
    "**(v)**"
   ]
  },
  {
   "cell_type": "code",
   "execution_count": 32,
   "id": "tight-compound",
   "metadata": {},
   "outputs": [],
   "source": [
    "import sklearn.linear_model"
   ]
  },
  {
   "cell_type": "code",
   "execution_count": 33,
   "id": "serious-instrument",
   "metadata": {},
   "outputs": [
    {
     "data": {
      "text/plain": [
       "RidgeCV(alphas=array([5.00000000e+09, 3.78231664e+09, 2.86118383e+09, 2.16438064e+09,\n",
       "       1.63727458e+09, 1.23853818e+09, 9.36908711e+08, 7.08737081e+08,\n",
       "       5.36133611e+08, 4.05565415e+08, 3.06795364e+08, 2.32079442e+08,\n",
       "       1.75559587e+08, 1.32804389e+08, 1.00461650e+08, 7.59955541e+07,\n",
       "       5.74878498e+07, 4.34874501e+07, 3.28966612e+07, 2.48851178e+07,\n",
       "       1.88246790e+07, 1.42401793e+0...\n",
       "       3.06795364e+00, 2.32079442e+00, 1.75559587e+00, 1.32804389e+00,\n",
       "       1.00461650e+00, 7.59955541e-01, 5.74878498e-01, 4.34874501e-01,\n",
       "       3.28966612e-01, 2.48851178e-01, 1.88246790e-01, 1.42401793e-01,\n",
       "       1.07721735e-01, 8.14875417e-02, 6.16423370e-02, 4.66301673e-02,\n",
       "       3.52740116e-02, 2.66834962e-02, 2.01850863e-02, 1.52692775e-02,\n",
       "       1.15506485e-02, 8.73764200e-03, 6.60970574e-03, 5.00000000e-03]),\n",
       "        scoring='neg_mean_squared_error')"
      ]
     },
     "execution_count": 33,
     "metadata": {},
     "output_type": "execute_result"
    }
   ],
   "source": [
    "alphas =  10**np.linspace(10,-2,100)*0.5\n",
    "ridge_best = sklearn.linear_model.RidgeCV(alphas=alphas, scoring='neg_mean_squared_error')\n",
    "ridge_best.fit(scale(X_train), y_train.ravel())"
   ]
  },
  {
   "cell_type": "code",
   "execution_count": 34,
   "id": "charming-baltimore",
   "metadata": {},
   "outputs": [
    {
     "data": {
      "text/plain": [
       "124064.27401460252"
      ]
     },
     "execution_count": 34,
     "metadata": {},
     "output_type": "execute_result"
    }
   ],
   "source": [
    "ridge_rgr.set_params(alpha=ridge_best.alpha_)\n",
    "ridge_rgr.fit(scale(X_train), y_train)\n",
    "mean_squared_error(y_val, ridge.predict(scale(X_val)))"
   ]
  },
  {
   "cell_type": "code",
   "execution_count": 35,
   "id": "alien-phase",
   "metadata": {},
   "outputs": [
    {
     "data": {
      "text/plain": [
       "2.320794416806386"
      ]
     },
     "execution_count": 35,
     "metadata": {},
     "output_type": "execute_result"
    }
   ],
   "source": [
    "ridge_best.alpha_"
   ]
  },
  {
   "cell_type": "code",
   "execution_count": 40,
   "id": "deluxe-mapping",
   "metadata": {},
   "outputs": [
    {
     "data": {
      "text/plain": [
       "AtBat       -247.044346\n",
       "Hits         257.342156\n",
       "HmRun        -19.654299\n",
       "Runs           8.943903\n",
       "RBI           22.920840\n",
       "Walks         95.417031\n",
       "Years        -31.542718\n",
       "CAtBat      -176.975502\n",
       "CHits        148.094388\n",
       "CHmRun        99.073728\n",
       "CRuns        185.823300\n",
       "CRBI          99.827211\n",
       "CWalks      -123.783211\n",
       "League        19.671022\n",
       "Division      58.705830\n",
       "PutOuts       85.421955\n",
       "Assists        4.254059\n",
       "Errors        11.074709\n",
       "NewLeague      2.242057\n",
       "dtype: float64"
      ]
     },
     "execution_count": 40,
     "metadata": {},
     "output_type": "execute_result"
    }
   ],
   "source": [
    "pd.Series(ridge_best.coef_, index=X.columns)"
   ]
  },
  {
   "cell_type": "code",
   "execution_count": 36,
   "id": "anticipated-plaintiff",
   "metadata": {},
   "outputs": [
    {
     "data": {
      "text/plain": [
       "LassoCV(cv=10, max_iter=10000)"
      ]
     },
     "execution_count": 36,
     "metadata": {},
     "output_type": "execute_result"
    }
   ],
   "source": [
    "lasso_best = sklearn.linear_model.LassoCV(alphas=None, cv=10, max_iter=10000)\n",
    "lasso_best.fit(scale(X_train), y_train.ravel())"
   ]
  },
  {
   "cell_type": "code",
   "execution_count": 37,
   "id": "popular-jaguar",
   "metadata": {},
   "outputs": [
    {
     "data": {
      "text/plain": [
       "120634.62747686288"
      ]
     },
     "execution_count": 37,
     "metadata": {},
     "output_type": "execute_result"
    }
   ],
   "source": [
    "lasso_rgr.set_params(alpha=lasso_best.alpha_)\n",
    "lasso_rgr.fit(scale(X_train), y_train)\n",
    "mean_squared_error(y_val, lasso_rgr.predict(scale(X_val)))"
   ]
  },
  {
   "cell_type": "code",
   "execution_count": 38,
   "id": "frequent-anchor",
   "metadata": {},
   "outputs": [
    {
     "data": {
      "text/plain": [
       "3.278455077660342"
      ]
     },
     "execution_count": 38,
     "metadata": {},
     "output_type": "execute_result"
    }
   ],
   "source": [
    "lasso_best.alpha_"
   ]
  },
  {
   "cell_type": "code",
   "execution_count": 39,
   "id": "placed-turkey",
   "metadata": {},
   "outputs": [
    {
     "data": {
      "text/plain": [
       "AtBat       -234.208184\n",
       "Hits         277.645073\n",
       "HmRun         -0.000000\n",
       "Runs           0.000000\n",
       "RBI            0.000000\n",
       "Walks         85.073634\n",
       "Years        -29.320236\n",
       "CAtBat        -0.000000\n",
       "CHits          0.000000\n",
       "CHmRun        85.035512\n",
       "CRuns        151.852740\n",
       "CRBI          89.004331\n",
       "CWalks       -97.914717\n",
       "League        14.694211\n",
       "Division      56.968316\n",
       "PutOuts       83.942893\n",
       "Assists        0.000000\n",
       "Errors         8.867654\n",
       "NewLeague      5.281064\n",
       "dtype: float64"
      ]
     },
     "execution_count": 39,
     "metadata": {},
     "output_type": "execute_result"
    }
   ],
   "source": [
    "pd.Series(lasso_best.coef_, index=X.columns)"
   ]
  },
  {
   "cell_type": "markdown",
   "id": "communist-wellington",
   "metadata": {},
   "source": [
    "**(vi)**"
   ]
  },
  {
   "cell_type": "markdown",
   "id": "faced-graphics",
   "metadata": {},
   "source": [
    "Using the test error obtained using cross-validation, we have found the best lambda. Ridge regression reduces the emphasis on the coefficients but Lasso regression makes few coefficients 0 which nullifies the effect of those features in the model."
   ]
  },
  {
   "cell_type": "code",
   "execution_count": null,
   "id": "muslim-james",
   "metadata": {},
   "outputs": [],
   "source": []
  }
 ],
 "metadata": {
  "kernelspec": {
   "display_name": "Python 3",
   "language": "python",
   "name": "python3"
  },
  "language_info": {
   "codemirror_mode": {
    "name": "ipython",
    "version": 3
   },
   "file_extension": ".py",
   "mimetype": "text/x-python",
   "name": "python",
   "nbconvert_exporter": "python",
   "pygments_lexer": "ipython3",
   "version": "3.8.5"
  }
 },
 "nbformat": 4,
 "nbformat_minor": 5
}
