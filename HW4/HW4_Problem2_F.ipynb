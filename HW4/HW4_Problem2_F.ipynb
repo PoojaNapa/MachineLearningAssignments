{
 "cells": [
  {
   "cell_type": "markdown",
   "id": "acceptable-description",
   "metadata": {},
   "source": [
    "**PROBLEM 2**"
   ]
  },
  {
   "cell_type": "code",
   "execution_count": 1,
   "id": "powered-services",
   "metadata": {},
   "outputs": [],
   "source": [
    "import pandas as pd\n",
    "import numpy as np\n",
    "\n",
    "%matplotlib inline\n",
    "import matplotlib.pyplot as plt\n",
    "import seaborn as sns\n",
    "\n",
    "import warnings\n",
    "warnings.filterwarnings(\"ignore\")"
   ]
  },
  {
   "cell_type": "code",
   "execution_count": 2,
   "id": "wrapped-package",
   "metadata": {},
   "outputs": [],
   "source": [
    "defdata_df = pd.read_csv(\"/mnt/c/Users/pooja/Downloads/Default.csv\")"
   ]
  },
  {
   "cell_type": "code",
   "execution_count": 3,
   "id": "large-credits",
   "metadata": {
    "scrolled": true
   },
   "outputs": [
    {
     "name": "stdout",
     "output_type": "stream",
     "text": [
      "<class 'pandas.core.frame.DataFrame'>\n",
      "RangeIndex: 10000 entries, 0 to 9999\n",
      "Data columns (total 5 columns):\n",
      " #   Column      Non-Null Count  Dtype  \n",
      "---  ------      --------------  -----  \n",
      " 0   Unnamed: 0  10000 non-null  int64  \n",
      " 1   default     10000 non-null  object \n",
      " 2   student     10000 non-null  object \n",
      " 3   balance     10000 non-null  float64\n",
      " 4   income      10000 non-null  float64\n",
      "dtypes: float64(2), int64(1), object(2)\n",
      "memory usage: 390.8+ KB\n"
     ]
    }
   ],
   "source": [
    "defdata_df.info()"
   ]
  },
  {
   "cell_type": "markdown",
   "id": "animal-empty",
   "metadata": {},
   "source": [
    "There are 10000 datapoints. There are 5 features. No missing or null values. There are 2 categorical variables and the other three have 2 float64 and one int64 values. "
   ]
  },
  {
   "cell_type": "code",
   "execution_count": 4,
   "id": "instant-pitch",
   "metadata": {},
   "outputs": [
    {
     "data": {
      "text/html": [
       "<div>\n",
       "<style scoped>\n",
       "    .dataframe tbody tr th:only-of-type {\n",
       "        vertical-align: middle;\n",
       "    }\n",
       "\n",
       "    .dataframe tbody tr th {\n",
       "        vertical-align: top;\n",
       "    }\n",
       "\n",
       "    .dataframe thead th {\n",
       "        text-align: right;\n",
       "    }\n",
       "</style>\n",
       "<table border=\"1\" class=\"dataframe\">\n",
       "  <thead>\n",
       "    <tr style=\"text-align: right;\">\n",
       "      <th></th>\n",
       "      <th>Unnamed: 0</th>\n",
       "      <th>default</th>\n",
       "      <th>student</th>\n",
       "      <th>balance</th>\n",
       "      <th>income</th>\n",
       "    </tr>\n",
       "  </thead>\n",
       "  <tbody>\n",
       "    <tr>\n",
       "      <th>0</th>\n",
       "      <td>1</td>\n",
       "      <td>No</td>\n",
       "      <td>No</td>\n",
       "      <td>729.526495</td>\n",
       "      <td>44361.625074</td>\n",
       "    </tr>\n",
       "    <tr>\n",
       "      <th>1</th>\n",
       "      <td>2</td>\n",
       "      <td>No</td>\n",
       "      <td>Yes</td>\n",
       "      <td>817.180407</td>\n",
       "      <td>12106.134700</td>\n",
       "    </tr>\n",
       "    <tr>\n",
       "      <th>2</th>\n",
       "      <td>3</td>\n",
       "      <td>No</td>\n",
       "      <td>No</td>\n",
       "      <td>1073.549164</td>\n",
       "      <td>31767.138947</td>\n",
       "    </tr>\n",
       "    <tr>\n",
       "      <th>3</th>\n",
       "      <td>4</td>\n",
       "      <td>No</td>\n",
       "      <td>No</td>\n",
       "      <td>529.250605</td>\n",
       "      <td>35704.493935</td>\n",
       "    </tr>\n",
       "    <tr>\n",
       "      <th>4</th>\n",
       "      <td>5</td>\n",
       "      <td>No</td>\n",
       "      <td>No</td>\n",
       "      <td>785.655883</td>\n",
       "      <td>38463.495879</td>\n",
       "    </tr>\n",
       "  </tbody>\n",
       "</table>\n",
       "</div>"
      ],
      "text/plain": [
       "   Unnamed: 0 default student      balance        income\n",
       "0           1      No      No   729.526495  44361.625074\n",
       "1           2      No     Yes   817.180407  12106.134700\n",
       "2           3      No      No  1073.549164  31767.138947\n",
       "3           4      No      No   529.250605  35704.493935\n",
       "4           5      No      No   785.655883  38463.495879"
      ]
     },
     "execution_count": 4,
     "metadata": {},
     "output_type": "execute_result"
    }
   ],
   "source": [
    "defdata_df.head()"
   ]
  },
  {
   "cell_type": "code",
   "execution_count": 5,
   "id": "resident-experiment",
   "metadata": {},
   "outputs": [
    {
     "data": {
      "text/html": [
       "<div>\n",
       "<style scoped>\n",
       "    .dataframe tbody tr th:only-of-type {\n",
       "        vertical-align: middle;\n",
       "    }\n",
       "\n",
       "    .dataframe tbody tr th {\n",
       "        vertical-align: top;\n",
       "    }\n",
       "\n",
       "    .dataframe thead th {\n",
       "        text-align: right;\n",
       "    }\n",
       "</style>\n",
       "<table border=\"1\" class=\"dataframe\">\n",
       "  <thead>\n",
       "    <tr style=\"text-align: right;\">\n",
       "      <th></th>\n",
       "      <th>Unnamed: 0</th>\n",
       "      <th>balance</th>\n",
       "      <th>income</th>\n",
       "    </tr>\n",
       "  </thead>\n",
       "  <tbody>\n",
       "    <tr>\n",
       "      <th>count</th>\n",
       "      <td>10000.00000</td>\n",
       "      <td>10000.000000</td>\n",
       "      <td>10000.000000</td>\n",
       "    </tr>\n",
       "    <tr>\n",
       "      <th>mean</th>\n",
       "      <td>5000.50000</td>\n",
       "      <td>835.374886</td>\n",
       "      <td>33516.981876</td>\n",
       "    </tr>\n",
       "    <tr>\n",
       "      <th>std</th>\n",
       "      <td>2886.89568</td>\n",
       "      <td>483.714985</td>\n",
       "      <td>13336.639563</td>\n",
       "    </tr>\n",
       "    <tr>\n",
       "      <th>min</th>\n",
       "      <td>1.00000</td>\n",
       "      <td>0.000000</td>\n",
       "      <td>771.967729</td>\n",
       "    </tr>\n",
       "    <tr>\n",
       "      <th>25%</th>\n",
       "      <td>2500.75000</td>\n",
       "      <td>481.731105</td>\n",
       "      <td>21340.462903</td>\n",
       "    </tr>\n",
       "    <tr>\n",
       "      <th>50%</th>\n",
       "      <td>5000.50000</td>\n",
       "      <td>823.636973</td>\n",
       "      <td>34552.644802</td>\n",
       "    </tr>\n",
       "    <tr>\n",
       "      <th>75%</th>\n",
       "      <td>7500.25000</td>\n",
       "      <td>1166.308386</td>\n",
       "      <td>43807.729272</td>\n",
       "    </tr>\n",
       "    <tr>\n",
       "      <th>max</th>\n",
       "      <td>10000.00000</td>\n",
       "      <td>2654.322576</td>\n",
       "      <td>73554.233495</td>\n",
       "    </tr>\n",
       "  </tbody>\n",
       "</table>\n",
       "</div>"
      ],
      "text/plain": [
       "        Unnamed: 0       balance        income\n",
       "count  10000.00000  10000.000000  10000.000000\n",
       "mean    5000.50000    835.374886  33516.981876\n",
       "std     2886.89568    483.714985  13336.639563\n",
       "min        1.00000      0.000000    771.967729\n",
       "25%     2500.75000    481.731105  21340.462903\n",
       "50%     5000.50000    823.636973  34552.644802\n",
       "75%     7500.25000   1166.308386  43807.729272\n",
       "max    10000.00000   2654.322576  73554.233495"
      ]
     },
     "execution_count": 5,
     "metadata": {},
     "output_type": "execute_result"
    }
   ],
   "source": [
    "defdata_df.describe()"
   ]
  },
  {
   "cell_type": "markdown",
   "id": "agricultural-pizza",
   "metadata": {},
   "source": [
    "From .describe function we see that there are a total of 10000 in the non-categorical values."
   ]
  },
  {
   "cell_type": "code",
   "execution_count": 6,
   "id": "featured-scoop",
   "metadata": {},
   "outputs": [
    {
     "name": "stdout",
     "output_type": "stream",
     "text": [
      "      Unnamed: 0  default student      balance        income\n",
      "0              1        1      No   729.526495  44361.625074\n",
      "1              2        1     Yes   817.180407  12106.134700\n",
      "2              3        1      No  1073.549164  31767.138947\n",
      "3              4        1      No   529.250605  35704.493935\n",
      "4              5        1      No   785.655883  38463.495879\n",
      "...          ...      ...     ...          ...           ...\n",
      "9995        9996        1      No   711.555020  52992.378914\n",
      "9996        9997        1      No   757.962918  19660.721768\n",
      "9997        9998        1      No   845.411989  58636.156984\n",
      "9998        9999        1      No  1569.009053  36669.112365\n",
      "9999       10000        1     Yes   200.922183  16862.952321\n",
      "\n",
      "[10000 rows x 5 columns]\n"
     ]
    }
   ],
   "source": [
    "defdata_df['default']= pd.Categorical(defdata_df['default'],['Yes','No'])\n",
    "defdata_df['default']= defdata_df['default'].cat.codes\n",
    "print(defdata_df)"
   ]
  },
  {
   "cell_type": "code",
   "execution_count": 7,
   "id": "listed-athletics",
   "metadata": {},
   "outputs": [
    {
     "data": {
      "text/plain": [
       "1    9667\n",
       "0     333\n",
       "Name: default, dtype: int64"
      ]
     },
     "execution_count": 7,
     "metadata": {},
     "output_type": "execute_result"
    }
   ],
   "source": [
    "defdata_df['default'].value_counts()"
   ]
  },
  {
   "cell_type": "code",
   "execution_count": 8,
   "id": "universal-pleasure",
   "metadata": {},
   "outputs": [],
   "source": [
    "y = defdata_df['default']"
   ]
  },
  {
   "cell_type": "code",
   "execution_count": 9,
   "id": "monetary-tennis",
   "metadata": {},
   "outputs": [],
   "source": [
    "X = defdata_df.drop([\"Unnamed: 0\", \"default\", \"student\"], axis = 1)"
   ]
  },
  {
   "cell_type": "markdown",
   "id": "cathedral-healing",
   "metadata": {},
   "source": [
    "**(i) Validation Set** "
   ]
  },
  {
   "cell_type": "code",
   "execution_count": 10,
   "id": "challenging-punch",
   "metadata": {},
   "outputs": [],
   "source": [
    "import sklearn.linear_model as skl_lm\n",
    "from sklearn.linear_model import LogisticRegression\n",
    "from sklearn.metrics import mean_squared_error\n",
    "from sklearn.model_selection import train_test_split"
   ]
  },
  {
   "cell_type": "code",
   "execution_count": 11,
   "id": "adult-oregon",
   "metadata": {},
   "outputs": [],
   "source": [
    "X_train, X_val, y_train, y_val = train_test_split(X, y, test_size=0.2, random_state=1)"
   ]
  },
  {
   "cell_type": "code",
   "execution_count": 12,
   "id": "peripheral-medline",
   "metadata": {},
   "outputs": [
    {
     "data": {
      "text/plain": [
       "LogisticRegression(random_state=42)"
      ]
     },
     "execution_count": 12,
     "metadata": {},
     "output_type": "execute_result"
    }
   ],
   "source": [
    "clf = LogisticRegression(random_state=42)\n",
    "clf.fit(X_train, y_train)\n",
    "# predictions = clf.predict(X_test)"
   ]
  },
  {
   "cell_type": "code",
   "execution_count": 13,
   "id": "lesbian-colon",
   "metadata": {},
   "outputs": [
    {
     "data": {
      "text/plain": [
       "0.9705"
      ]
     },
     "execution_count": 13,
     "metadata": {},
     "output_type": "execute_result"
    }
   ],
   "source": [
    "from sklearn.metrics import accuracy_score\n",
    "\n",
    "y_pred = clf.predict(X_val)\n",
    "accuracy_score(y_val, y_pred, normalize=True)"
   ]
  },
  {
   "cell_type": "code",
   "execution_count": 14,
   "id": "stone-sudan",
   "metadata": {},
   "outputs": [
    {
     "name": "stdout",
     "output_type": "stream",
     "text": [
      "Misclassification error: 0.02949999999999997\n"
     ]
    }
   ],
   "source": [
    "acc = accuracy_score(y_val, y_pred, normalize=True)\n",
    "misclass_err = 1 - acc\n",
    "print(\"Misclassification error:\", misclass_err)"
   ]
  },
  {
   "cell_type": "markdown",
   "id": "found-civilian",
   "metadata": {},
   "source": [
    "**(ii) LOOCV**"
   ]
  },
  {
   "cell_type": "code",
   "execution_count": 15,
   "id": "closed-episode",
   "metadata": {},
   "outputs": [],
   "source": [
    "from sklearn.model_selection import LeaveOneOut, cross_val_score"
   ]
  },
  {
   "cell_type": "code",
   "execution_count": 16,
   "id": "loaded-dictionary",
   "metadata": {},
   "outputs": [
    {
     "data": {
      "text/plain": [
       "10000"
      ]
     },
     "execution_count": 16,
     "metadata": {},
     "output_type": "execute_result"
    }
   ],
   "source": [
    "loocv = LeaveOneOut()\n",
    "loocv.get_n_splits(defdata_df)"
   ]
  },
  {
   "cell_type": "code",
   "execution_count": 17,
   "id": "furnished-prompt",
   "metadata": {},
   "outputs": [
    {
     "data": {
      "text/plain": [
       "0.9737"
      ]
     },
     "execution_count": 17,
     "metadata": {},
     "output_type": "execute_result"
    }
   ],
   "source": [
    "acc = cross_val_score(clf, X, y, cv = loocv, scoring='accuracy')\n",
    "acc.mean()"
   ]
  },
  {
   "cell_type": "code",
   "execution_count": 18,
   "id": "sophisticated-guinea",
   "metadata": {},
   "outputs": [
    {
     "name": "stdout",
     "output_type": "stream",
     "text": [
      "Misclassification error: [0. 0. 0. ... 0. 0. 0.]\n"
     ]
    }
   ],
   "source": [
    "misclass_err = 1 - acc\n",
    "print(\"Misclassification error:\", misclass_err)"
   ]
  },
  {
   "cell_type": "markdown",
   "id": "bizarre-frequency",
   "metadata": {},
   "source": [
    "**(iii) K-fold cross validation**"
   ]
  },
  {
   "cell_type": "code",
   "execution_count": 19,
   "id": "multiple-environment",
   "metadata": {},
   "outputs": [],
   "source": [
    "from sklearn.model_selection import KFold, cross_val_score"
   ]
  },
  {
   "cell_type": "code",
   "execution_count": 20,
   "id": "starting-immune",
   "metadata": {},
   "outputs": [],
   "source": [
    "kf = KFold(n_splits=5,random_state=1,shuffle=True)"
   ]
  },
  {
   "cell_type": "code",
   "execution_count": 21,
   "id": "happy-helicopter",
   "metadata": {},
   "outputs": [
    {
     "data": {
      "text/plain": [
       "0.9706000000000001"
      ]
     },
     "execution_count": 21,
     "metadata": {},
     "output_type": "execute_result"
    }
   ],
   "source": [
    "acc = cross_val_score(clf, X, y, cv = kf, scoring='accuracy')\n",
    "acc.mean()"
   ]
  },
  {
   "cell_type": "code",
   "execution_count": 22,
   "id": "orange-brain",
   "metadata": {},
   "outputs": [
    {
     "name": "stdout",
     "output_type": "stream",
     "text": [
      "Misclassification error: [0.0295 0.024  0.0285 0.0275 0.0375]\n"
     ]
    }
   ],
   "source": [
    "misclass_err = 1 - acc\n",
    "print(\"Misclassification error:\", misclass_err)"
   ]
  },
  {
   "cell_type": "markdown",
   "id": "elementary-basket",
   "metadata": {},
   "source": [
    "**Using 3 different splits for (i) and (iii)**"
   ]
  },
  {
   "cell_type": "markdown",
   "id": "close-cross",
   "metadata": {},
   "source": [
    "(i)"
   ]
  },
  {
   "cell_type": "code",
   "execution_count": 23,
   "id": "statistical-conducting",
   "metadata": {},
   "outputs": [],
   "source": [
    "X_train, X_val, y_train, y_val = train_test_split(X, y, test_size=0.3, random_state=1)"
   ]
  },
  {
   "cell_type": "code",
   "execution_count": 24,
   "id": "threaded-action",
   "metadata": {},
   "outputs": [
    {
     "data": {
      "text/plain": [
       "LogisticRegression(random_state=42)"
      ]
     },
     "execution_count": 24,
     "metadata": {},
     "output_type": "execute_result"
    }
   ],
   "source": [
    "clf.fit(X_train, y_train)"
   ]
  },
  {
   "cell_type": "code",
   "execution_count": 25,
   "id": "western-hostel",
   "metadata": {},
   "outputs": [
    {
     "data": {
      "text/plain": [
       "0.9753333333333334"
      ]
     },
     "execution_count": 25,
     "metadata": {},
     "output_type": "execute_result"
    }
   ],
   "source": [
    "y_pred = clf.predict(X_val)\n",
    "accuracy_score(y_val, y_pred, normalize=True)"
   ]
  },
  {
   "cell_type": "code",
   "execution_count": 26,
   "id": "industrial-daniel",
   "metadata": {},
   "outputs": [
    {
     "name": "stdout",
     "output_type": "stream",
     "text": [
      "Misclassification error: 0.024666666666666615\n"
     ]
    }
   ],
   "source": [
    "acc = accuracy_score(y_val, y_pred, normalize=True)\n",
    "misclass_err = 1 - acc\n",
    "print(\"Misclassification error:\", misclass_err)"
   ]
  },
  {
   "cell_type": "code",
   "execution_count": 27,
   "id": "attempted-calcium",
   "metadata": {},
   "outputs": [],
   "source": [
    "X_train, X_val, y_train, y_val = train_test_split(X, y, test_size=0.5, random_state=1)"
   ]
  },
  {
   "cell_type": "code",
   "execution_count": 28,
   "id": "finished-bruce",
   "metadata": {},
   "outputs": [
    {
     "data": {
      "text/plain": [
       "LogisticRegression(random_state=42)"
      ]
     },
     "execution_count": 28,
     "metadata": {},
     "output_type": "execute_result"
    }
   ],
   "source": [
    "clf.fit(X_train, y_train)"
   ]
  },
  {
   "cell_type": "code",
   "execution_count": 29,
   "id": "powerful-origin",
   "metadata": {},
   "outputs": [
    {
     "data": {
      "text/plain": [
       "0.9678"
      ]
     },
     "execution_count": 29,
     "metadata": {},
     "output_type": "execute_result"
    }
   ],
   "source": [
    "y_pred = clf.predict(X_val)\n",
    "accuracy_score(y_val, y_pred, normalize=True)"
   ]
  },
  {
   "cell_type": "code",
   "execution_count": 30,
   "id": "quiet-tournament",
   "metadata": {},
   "outputs": [
    {
     "name": "stdout",
     "output_type": "stream",
     "text": [
      "Misclassification error: 0.032200000000000006\n"
     ]
    }
   ],
   "source": [
    "acc = accuracy_score(y_val, y_pred, normalize=True)\n",
    "misclass_err = 1 - acc\n",
    "print(\"Misclassification error:\", misclass_err)"
   ]
  },
  {
   "cell_type": "markdown",
   "id": "cleared-climb",
   "metadata": {},
   "source": [
    "**OBSERVATION:**\n",
    "\n",
    "The accuracy of the model is the highest when the split is 70-30 and the lowest when the dataset is split halfway."
   ]
  },
  {
   "cell_type": "markdown",
   "id": "fifth-prize",
   "metadata": {},
   "source": [
    "(iii)"
   ]
  },
  {
   "cell_type": "code",
   "execution_count": 31,
   "id": "fantastic-douglas",
   "metadata": {},
   "outputs": [],
   "source": [
    "kf = KFold(n_splits=10,random_state=1,shuffle=True)"
   ]
  },
  {
   "cell_type": "code",
   "execution_count": 32,
   "id": "charged-sharing",
   "metadata": {},
   "outputs": [
    {
     "data": {
      "text/plain": [
       "0.9697000000000001"
      ]
     },
     "execution_count": 32,
     "metadata": {},
     "output_type": "execute_result"
    }
   ],
   "source": [
    "acc = cross_val_score(clf, X, y, cv = kf, scoring='accuracy')\n",
    "acc.mean()"
   ]
  },
  {
   "cell_type": "code",
   "execution_count": 33,
   "id": "experienced-option",
   "metadata": {},
   "outputs": [
    {
     "name": "stdout",
     "output_type": "stream",
     "text": [
      "Misclassification error: [0.03  0.026 0.02  0.032 0.037 0.036 0.026 0.034 0.039 0.023]\n"
     ]
    }
   ],
   "source": [
    "misclass_err = 1 - acc\n",
    "print(\"Misclassification error:\", misclass_err)"
   ]
  },
  {
   "cell_type": "code",
   "execution_count": 34,
   "id": "aboriginal-quantum",
   "metadata": {},
   "outputs": [],
   "source": [
    "kf = KFold(n_splits=20,random_state=1,shuffle=True)"
   ]
  },
  {
   "cell_type": "code",
   "execution_count": 35,
   "id": "widespread-intermediate",
   "metadata": {},
   "outputs": [
    {
     "data": {
      "text/plain": [
       "0.9719000000000001"
      ]
     },
     "execution_count": 35,
     "metadata": {},
     "output_type": "execute_result"
    }
   ],
   "source": [
    "acc = cross_val_score(clf, X, y, cv = kf, scoring='accuracy')\n",
    "acc.mean()"
   ]
  },
  {
   "cell_type": "code",
   "execution_count": 36,
   "id": "double-services",
   "metadata": {},
   "outputs": [
    {
     "name": "stdout",
     "output_type": "stream",
     "text": [
      "Misclassification error: [0.028 0.03  0.028 0.02  0.022 0.016 0.034 0.026 0.028 0.022 0.032 0.032\n",
      " 0.02  0.026 0.04  0.038 0.022 0.04  0.028 0.03 ]\n"
     ]
    }
   ],
   "source": [
    "misclass_err = 1 - acc\n",
    "print(\"Misclassification error:\", misclass_err)"
   ]
  },
  {
   "cell_type": "markdown",
   "id": "prescription-faculty",
   "metadata": {},
   "source": [
    "**OBSERVATION:**\n",
    "\n",
    "For this dataset, the 20-fold split has the best accuracy and the 10-fold split has the least accuracy."
   ]
  },
  {
   "cell_type": "markdown",
   "id": "threatened-leonard",
   "metadata": {},
   "source": [
    "Overall, validation set approach with 70-30 split has the best accuracy for this dataset. LOOCV also has a high accuracy. But the computation time for LOOCV is the largest."
   ]
  },
  {
   "cell_type": "code",
   "execution_count": null,
   "id": "ongoing-endorsement",
   "metadata": {},
   "outputs": [],
   "source": []
  }
 ],
 "metadata": {
  "kernelspec": {
   "display_name": "Python 3",
   "language": "python",
   "name": "python3"
  },
  "language_info": {
   "codemirror_mode": {
    "name": "ipython",
    "version": 3
   },
   "file_extension": ".py",
   "mimetype": "text/x-python",
   "name": "python",
   "nbconvert_exporter": "python",
   "pygments_lexer": "ipython3",
   "version": "3.8.5"
  }
 },
 "nbformat": 4,
 "nbformat_minor": 5
}
