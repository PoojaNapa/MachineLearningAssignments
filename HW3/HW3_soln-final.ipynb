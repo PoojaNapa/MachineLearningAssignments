{
 "cells": [
  {
   "cell_type": "markdown",
   "id": "pediatric-product",
   "metadata": {},
   "source": [
    "**PROBLEM 5**"
   ]
  },
  {
   "cell_type": "markdown",
   "id": "negative-vancouver",
   "metadata": {},
   "source": [
    "Part c)"
   ]
  },
  {
   "cell_type": "markdown",
   "id": "chief-detroit",
   "metadata": {},
   "source": [
    "Optical Recognition of Handwritten Digits Data Set:-\n",
    "\n",
    "Description: \n",
    "The dataset consists of images of handwritten digits from 0 to 9. Therefore, there are 10 classes. Each image is 8x8 size which accounts for the 64 features. There are a total of 1797 rows which is the total number of datapoints. Each value in the dataset represent pixel values at different positions. \n",
    "This is a classification problem where the training dataset has to be classified into the 10 different classes. "
   ]
  },
  {
   "cell_type": "markdown",
   "id": "marked-intermediate",
   "metadata": {},
   "source": [
    "EDA:-"
   ]
  },
  {
   "cell_type": "code",
   "execution_count": 57,
   "id": "virtual-scottish",
   "metadata": {},
   "outputs": [],
   "source": [
    "# %load ../standard_import.txt\n",
    "import pandas as pd\n",
    "import numpy as np\n",
    "import matplotlib as mpl\n",
    "import matplotlib.pyplot as plt\n",
    "import seaborn as sns\n",
    "\n",
    "import sklearn.linear_model as skl_lm\n",
    "from sklearn.discriminant_analysis import LinearDiscriminantAnalysis\n",
    "from sklearn.discriminant_analysis import QuadraticDiscriminantAnalysis\n",
    "from sklearn.metrics import confusion_matrix, classification_report, precision_score\n",
    "from sklearn import preprocessing\n",
    "from sklearn import neighbors\n",
    "\n",
    "import statsmodels.api as sm\n",
    "import statsmodels.formula.api as smf\n",
    "\n",
    "import warnings\n",
    "warnings.filterwarnings(\"ignore\")\n",
    "\n",
    "%matplotlib inline\n",
    "plt.style.use('seaborn-white')"
   ]
  },
  {
   "cell_type": "code",
   "execution_count": 2,
   "id": "expressed-transmission",
   "metadata": {},
   "outputs": [
    {
     "name": "stdout",
     "output_type": "stream",
     "text": [
      "(1797, 64)\n"
     ]
    }
   ],
   "source": [
    "from sklearn.datasets import load_digits\n",
    "digits = load_digits(as_frame = True)\n",
    "print(digits.data.shape)"
   ]
  },
  {
   "cell_type": "code",
   "execution_count": 3,
   "id": "hired-referral",
   "metadata": {},
   "outputs": [
    {
     "data": {
      "text/html": [
       "<div>\n",
       "<style scoped>\n",
       "    .dataframe tbody tr th:only-of-type {\n",
       "        vertical-align: middle;\n",
       "    }\n",
       "\n",
       "    .dataframe tbody tr th {\n",
       "        vertical-align: top;\n",
       "    }\n",
       "\n",
       "    .dataframe thead th {\n",
       "        text-align: right;\n",
       "    }\n",
       "</style>\n",
       "<table border=\"1\" class=\"dataframe\">\n",
       "  <thead>\n",
       "    <tr style=\"text-align: right;\">\n",
       "      <th></th>\n",
       "      <th>pixel_0_0</th>\n",
       "      <th>pixel_0_1</th>\n",
       "      <th>pixel_0_2</th>\n",
       "      <th>pixel_0_3</th>\n",
       "      <th>pixel_0_4</th>\n",
       "      <th>pixel_0_5</th>\n",
       "      <th>pixel_0_6</th>\n",
       "      <th>pixel_0_7</th>\n",
       "      <th>pixel_1_0</th>\n",
       "      <th>pixel_1_1</th>\n",
       "      <th>...</th>\n",
       "      <th>pixel_6_6</th>\n",
       "      <th>pixel_6_7</th>\n",
       "      <th>pixel_7_0</th>\n",
       "      <th>pixel_7_1</th>\n",
       "      <th>pixel_7_2</th>\n",
       "      <th>pixel_7_3</th>\n",
       "      <th>pixel_7_4</th>\n",
       "      <th>pixel_7_5</th>\n",
       "      <th>pixel_7_6</th>\n",
       "      <th>pixel_7_7</th>\n",
       "    </tr>\n",
       "  </thead>\n",
       "  <tbody>\n",
       "    <tr>\n",
       "      <th>0</th>\n",
       "      <td>0.0</td>\n",
       "      <td>0.0</td>\n",
       "      <td>5.0</td>\n",
       "      <td>13.0</td>\n",
       "      <td>9.0</td>\n",
       "      <td>1.0</td>\n",
       "      <td>0.0</td>\n",
       "      <td>0.0</td>\n",
       "      <td>0.0</td>\n",
       "      <td>0.0</td>\n",
       "      <td>...</td>\n",
       "      <td>0.0</td>\n",
       "      <td>0.0</td>\n",
       "      <td>0.0</td>\n",
       "      <td>0.0</td>\n",
       "      <td>6.0</td>\n",
       "      <td>13.0</td>\n",
       "      <td>10.0</td>\n",
       "      <td>0.0</td>\n",
       "      <td>0.0</td>\n",
       "      <td>0.0</td>\n",
       "    </tr>\n",
       "    <tr>\n",
       "      <th>1</th>\n",
       "      <td>0.0</td>\n",
       "      <td>0.0</td>\n",
       "      <td>0.0</td>\n",
       "      <td>12.0</td>\n",
       "      <td>13.0</td>\n",
       "      <td>5.0</td>\n",
       "      <td>0.0</td>\n",
       "      <td>0.0</td>\n",
       "      <td>0.0</td>\n",
       "      <td>0.0</td>\n",
       "      <td>...</td>\n",
       "      <td>0.0</td>\n",
       "      <td>0.0</td>\n",
       "      <td>0.0</td>\n",
       "      <td>0.0</td>\n",
       "      <td>0.0</td>\n",
       "      <td>11.0</td>\n",
       "      <td>16.0</td>\n",
       "      <td>10.0</td>\n",
       "      <td>0.0</td>\n",
       "      <td>0.0</td>\n",
       "    </tr>\n",
       "    <tr>\n",
       "      <th>2</th>\n",
       "      <td>0.0</td>\n",
       "      <td>0.0</td>\n",
       "      <td>0.0</td>\n",
       "      <td>4.0</td>\n",
       "      <td>15.0</td>\n",
       "      <td>12.0</td>\n",
       "      <td>0.0</td>\n",
       "      <td>0.0</td>\n",
       "      <td>0.0</td>\n",
       "      <td>0.0</td>\n",
       "      <td>...</td>\n",
       "      <td>5.0</td>\n",
       "      <td>0.0</td>\n",
       "      <td>0.0</td>\n",
       "      <td>0.0</td>\n",
       "      <td>0.0</td>\n",
       "      <td>3.0</td>\n",
       "      <td>11.0</td>\n",
       "      <td>16.0</td>\n",
       "      <td>9.0</td>\n",
       "      <td>0.0</td>\n",
       "    </tr>\n",
       "    <tr>\n",
       "      <th>3</th>\n",
       "      <td>0.0</td>\n",
       "      <td>0.0</td>\n",
       "      <td>7.0</td>\n",
       "      <td>15.0</td>\n",
       "      <td>13.0</td>\n",
       "      <td>1.0</td>\n",
       "      <td>0.0</td>\n",
       "      <td>0.0</td>\n",
       "      <td>0.0</td>\n",
       "      <td>8.0</td>\n",
       "      <td>...</td>\n",
       "      <td>9.0</td>\n",
       "      <td>0.0</td>\n",
       "      <td>0.0</td>\n",
       "      <td>0.0</td>\n",
       "      <td>7.0</td>\n",
       "      <td>13.0</td>\n",
       "      <td>13.0</td>\n",
       "      <td>9.0</td>\n",
       "      <td>0.0</td>\n",
       "      <td>0.0</td>\n",
       "    </tr>\n",
       "    <tr>\n",
       "      <th>4</th>\n",
       "      <td>0.0</td>\n",
       "      <td>0.0</td>\n",
       "      <td>0.0</td>\n",
       "      <td>1.0</td>\n",
       "      <td>11.0</td>\n",
       "      <td>0.0</td>\n",
       "      <td>0.0</td>\n",
       "      <td>0.0</td>\n",
       "      <td>0.0</td>\n",
       "      <td>0.0</td>\n",
       "      <td>...</td>\n",
       "      <td>0.0</td>\n",
       "      <td>0.0</td>\n",
       "      <td>0.0</td>\n",
       "      <td>0.0</td>\n",
       "      <td>0.0</td>\n",
       "      <td>2.0</td>\n",
       "      <td>16.0</td>\n",
       "      <td>4.0</td>\n",
       "      <td>0.0</td>\n",
       "      <td>0.0</td>\n",
       "    </tr>\n",
       "  </tbody>\n",
       "</table>\n",
       "<p>5 rows × 64 columns</p>\n",
       "</div>"
      ],
      "text/plain": [
       "   pixel_0_0  pixel_0_1  pixel_0_2  pixel_0_3  pixel_0_4  pixel_0_5  \\\n",
       "0        0.0        0.0        5.0       13.0        9.0        1.0   \n",
       "1        0.0        0.0        0.0       12.0       13.0        5.0   \n",
       "2        0.0        0.0        0.0        4.0       15.0       12.0   \n",
       "3        0.0        0.0        7.0       15.0       13.0        1.0   \n",
       "4        0.0        0.0        0.0        1.0       11.0        0.0   \n",
       "\n",
       "   pixel_0_6  pixel_0_7  pixel_1_0  pixel_1_1  ...  pixel_6_6  pixel_6_7  \\\n",
       "0        0.0        0.0        0.0        0.0  ...        0.0        0.0   \n",
       "1        0.0        0.0        0.0        0.0  ...        0.0        0.0   \n",
       "2        0.0        0.0        0.0        0.0  ...        5.0        0.0   \n",
       "3        0.0        0.0        0.0        8.0  ...        9.0        0.0   \n",
       "4        0.0        0.0        0.0        0.0  ...        0.0        0.0   \n",
       "\n",
       "   pixel_7_0  pixel_7_1  pixel_7_2  pixel_7_3  pixel_7_4  pixel_7_5  \\\n",
       "0        0.0        0.0        6.0       13.0       10.0        0.0   \n",
       "1        0.0        0.0        0.0       11.0       16.0       10.0   \n",
       "2        0.0        0.0        0.0        3.0       11.0       16.0   \n",
       "3        0.0        0.0        7.0       13.0       13.0        9.0   \n",
       "4        0.0        0.0        0.0        2.0       16.0        4.0   \n",
       "\n",
       "   pixel_7_6  pixel_7_7  \n",
       "0        0.0        0.0  \n",
       "1        0.0        0.0  \n",
       "2        9.0        0.0  \n",
       "3        0.0        0.0  \n",
       "4        0.0        0.0  \n",
       "\n",
       "[5 rows x 64 columns]"
      ]
     },
     "execution_count": 3,
     "metadata": {},
     "output_type": "execute_result"
    }
   ],
   "source": [
    "digits.data.head()"
   ]
  },
  {
   "cell_type": "markdown",
   "id": "fatty-black",
   "metadata": {},
   "source": [
    "Displaying the first 5 rows and the 64 columns of the digits dataset using the .head() function."
   ]
  },
  {
   "cell_type": "code",
   "execution_count": 4,
   "id": "accomplished-percentage",
   "metadata": {},
   "outputs": [
    {
     "data": {
      "text/html": [
       "<div>\n",
       "<style scoped>\n",
       "    .dataframe tbody tr th:only-of-type {\n",
       "        vertical-align: middle;\n",
       "    }\n",
       "\n",
       "    .dataframe tbody tr th {\n",
       "        vertical-align: top;\n",
       "    }\n",
       "\n",
       "    .dataframe thead th {\n",
       "        text-align: right;\n",
       "    }\n",
       "</style>\n",
       "<table border=\"1\" class=\"dataframe\">\n",
       "  <thead>\n",
       "    <tr style=\"text-align: right;\">\n",
       "      <th></th>\n",
       "      <th>pixel_0_0</th>\n",
       "      <th>pixel_0_1</th>\n",
       "      <th>pixel_0_2</th>\n",
       "      <th>pixel_0_3</th>\n",
       "      <th>pixel_0_4</th>\n",
       "      <th>pixel_0_5</th>\n",
       "      <th>pixel_0_6</th>\n",
       "      <th>pixel_0_7</th>\n",
       "      <th>pixel_1_0</th>\n",
       "      <th>pixel_1_1</th>\n",
       "      <th>...</th>\n",
       "      <th>pixel_6_6</th>\n",
       "      <th>pixel_6_7</th>\n",
       "      <th>pixel_7_0</th>\n",
       "      <th>pixel_7_1</th>\n",
       "      <th>pixel_7_2</th>\n",
       "      <th>pixel_7_3</th>\n",
       "      <th>pixel_7_4</th>\n",
       "      <th>pixel_7_5</th>\n",
       "      <th>pixel_7_6</th>\n",
       "      <th>pixel_7_7</th>\n",
       "    </tr>\n",
       "  </thead>\n",
       "  <tbody>\n",
       "    <tr>\n",
       "      <th>count</th>\n",
       "      <td>1797.0</td>\n",
       "      <td>1797.000000</td>\n",
       "      <td>1797.000000</td>\n",
       "      <td>1797.000000</td>\n",
       "      <td>1797.000000</td>\n",
       "      <td>1797.000000</td>\n",
       "      <td>1797.000000</td>\n",
       "      <td>1797.000000</td>\n",
       "      <td>1797.000000</td>\n",
       "      <td>1797.000000</td>\n",
       "      <td>...</td>\n",
       "      <td>1797.000000</td>\n",
       "      <td>1797.000000</td>\n",
       "      <td>1797.000000</td>\n",
       "      <td>1797.000000</td>\n",
       "      <td>1797.000000</td>\n",
       "      <td>1797.000000</td>\n",
       "      <td>1797.000000</td>\n",
       "      <td>1797.000000</td>\n",
       "      <td>1797.000000</td>\n",
       "      <td>1797.000000</td>\n",
       "    </tr>\n",
       "    <tr>\n",
       "      <th>mean</th>\n",
       "      <td>0.0</td>\n",
       "      <td>0.303840</td>\n",
       "      <td>5.204786</td>\n",
       "      <td>11.835838</td>\n",
       "      <td>11.848080</td>\n",
       "      <td>5.781859</td>\n",
       "      <td>1.362270</td>\n",
       "      <td>0.129661</td>\n",
       "      <td>0.005565</td>\n",
       "      <td>1.993879</td>\n",
       "      <td>...</td>\n",
       "      <td>3.725097</td>\n",
       "      <td>0.206455</td>\n",
       "      <td>0.000556</td>\n",
       "      <td>0.279354</td>\n",
       "      <td>5.557596</td>\n",
       "      <td>12.089037</td>\n",
       "      <td>11.809126</td>\n",
       "      <td>6.764051</td>\n",
       "      <td>2.067891</td>\n",
       "      <td>0.364496</td>\n",
       "    </tr>\n",
       "    <tr>\n",
       "      <th>std</th>\n",
       "      <td>0.0</td>\n",
       "      <td>0.907192</td>\n",
       "      <td>4.754826</td>\n",
       "      <td>4.248842</td>\n",
       "      <td>4.287388</td>\n",
       "      <td>5.666418</td>\n",
       "      <td>3.325775</td>\n",
       "      <td>1.037383</td>\n",
       "      <td>0.094222</td>\n",
       "      <td>3.196160</td>\n",
       "      <td>...</td>\n",
       "      <td>4.919406</td>\n",
       "      <td>0.984401</td>\n",
       "      <td>0.023590</td>\n",
       "      <td>0.934302</td>\n",
       "      <td>5.103019</td>\n",
       "      <td>4.374694</td>\n",
       "      <td>4.933947</td>\n",
       "      <td>5.900623</td>\n",
       "      <td>4.090548</td>\n",
       "      <td>1.860122</td>\n",
       "    </tr>\n",
       "    <tr>\n",
       "      <th>min</th>\n",
       "      <td>0.0</td>\n",
       "      <td>0.000000</td>\n",
       "      <td>0.000000</td>\n",
       "      <td>0.000000</td>\n",
       "      <td>0.000000</td>\n",
       "      <td>0.000000</td>\n",
       "      <td>0.000000</td>\n",
       "      <td>0.000000</td>\n",
       "      <td>0.000000</td>\n",
       "      <td>0.000000</td>\n",
       "      <td>...</td>\n",
       "      <td>0.000000</td>\n",
       "      <td>0.000000</td>\n",
       "      <td>0.000000</td>\n",
       "      <td>0.000000</td>\n",
       "      <td>0.000000</td>\n",
       "      <td>0.000000</td>\n",
       "      <td>0.000000</td>\n",
       "      <td>0.000000</td>\n",
       "      <td>0.000000</td>\n",
       "      <td>0.000000</td>\n",
       "    </tr>\n",
       "    <tr>\n",
       "      <th>25%</th>\n",
       "      <td>0.0</td>\n",
       "      <td>0.000000</td>\n",
       "      <td>1.000000</td>\n",
       "      <td>10.000000</td>\n",
       "      <td>10.000000</td>\n",
       "      <td>0.000000</td>\n",
       "      <td>0.000000</td>\n",
       "      <td>0.000000</td>\n",
       "      <td>0.000000</td>\n",
       "      <td>0.000000</td>\n",
       "      <td>...</td>\n",
       "      <td>0.000000</td>\n",
       "      <td>0.000000</td>\n",
       "      <td>0.000000</td>\n",
       "      <td>0.000000</td>\n",
       "      <td>1.000000</td>\n",
       "      <td>11.000000</td>\n",
       "      <td>10.000000</td>\n",
       "      <td>0.000000</td>\n",
       "      <td>0.000000</td>\n",
       "      <td>0.000000</td>\n",
       "    </tr>\n",
       "    <tr>\n",
       "      <th>50%</th>\n",
       "      <td>0.0</td>\n",
       "      <td>0.000000</td>\n",
       "      <td>4.000000</td>\n",
       "      <td>13.000000</td>\n",
       "      <td>13.000000</td>\n",
       "      <td>4.000000</td>\n",
       "      <td>0.000000</td>\n",
       "      <td>0.000000</td>\n",
       "      <td>0.000000</td>\n",
       "      <td>0.000000</td>\n",
       "      <td>...</td>\n",
       "      <td>1.000000</td>\n",
       "      <td>0.000000</td>\n",
       "      <td>0.000000</td>\n",
       "      <td>0.000000</td>\n",
       "      <td>4.000000</td>\n",
       "      <td>13.000000</td>\n",
       "      <td>14.000000</td>\n",
       "      <td>6.000000</td>\n",
       "      <td>0.000000</td>\n",
       "      <td>0.000000</td>\n",
       "    </tr>\n",
       "    <tr>\n",
       "      <th>75%</th>\n",
       "      <td>0.0</td>\n",
       "      <td>0.000000</td>\n",
       "      <td>9.000000</td>\n",
       "      <td>15.000000</td>\n",
       "      <td>15.000000</td>\n",
       "      <td>11.000000</td>\n",
       "      <td>0.000000</td>\n",
       "      <td>0.000000</td>\n",
       "      <td>0.000000</td>\n",
       "      <td>3.000000</td>\n",
       "      <td>...</td>\n",
       "      <td>7.000000</td>\n",
       "      <td>0.000000</td>\n",
       "      <td>0.000000</td>\n",
       "      <td>0.000000</td>\n",
       "      <td>10.000000</td>\n",
       "      <td>16.000000</td>\n",
       "      <td>16.000000</td>\n",
       "      <td>12.000000</td>\n",
       "      <td>2.000000</td>\n",
       "      <td>0.000000</td>\n",
       "    </tr>\n",
       "    <tr>\n",
       "      <th>max</th>\n",
       "      <td>0.0</td>\n",
       "      <td>8.000000</td>\n",
       "      <td>16.000000</td>\n",
       "      <td>16.000000</td>\n",
       "      <td>16.000000</td>\n",
       "      <td>16.000000</td>\n",
       "      <td>16.000000</td>\n",
       "      <td>15.000000</td>\n",
       "      <td>2.000000</td>\n",
       "      <td>16.000000</td>\n",
       "      <td>...</td>\n",
       "      <td>16.000000</td>\n",
       "      <td>13.000000</td>\n",
       "      <td>1.000000</td>\n",
       "      <td>9.000000</td>\n",
       "      <td>16.000000</td>\n",
       "      <td>16.000000</td>\n",
       "      <td>16.000000</td>\n",
       "      <td>16.000000</td>\n",
       "      <td>16.000000</td>\n",
       "      <td>16.000000</td>\n",
       "    </tr>\n",
       "  </tbody>\n",
       "</table>\n",
       "<p>8 rows × 64 columns</p>\n",
       "</div>"
      ],
      "text/plain": [
       "       pixel_0_0    pixel_0_1    pixel_0_2    pixel_0_3    pixel_0_4  \\\n",
       "count     1797.0  1797.000000  1797.000000  1797.000000  1797.000000   \n",
       "mean         0.0     0.303840     5.204786    11.835838    11.848080   \n",
       "std          0.0     0.907192     4.754826     4.248842     4.287388   \n",
       "min          0.0     0.000000     0.000000     0.000000     0.000000   \n",
       "25%          0.0     0.000000     1.000000    10.000000    10.000000   \n",
       "50%          0.0     0.000000     4.000000    13.000000    13.000000   \n",
       "75%          0.0     0.000000     9.000000    15.000000    15.000000   \n",
       "max          0.0     8.000000    16.000000    16.000000    16.000000   \n",
       "\n",
       "         pixel_0_5    pixel_0_6    pixel_0_7    pixel_1_0    pixel_1_1  ...  \\\n",
       "count  1797.000000  1797.000000  1797.000000  1797.000000  1797.000000  ...   \n",
       "mean      5.781859     1.362270     0.129661     0.005565     1.993879  ...   \n",
       "std       5.666418     3.325775     1.037383     0.094222     3.196160  ...   \n",
       "min       0.000000     0.000000     0.000000     0.000000     0.000000  ...   \n",
       "25%       0.000000     0.000000     0.000000     0.000000     0.000000  ...   \n",
       "50%       4.000000     0.000000     0.000000     0.000000     0.000000  ...   \n",
       "75%      11.000000     0.000000     0.000000     0.000000     3.000000  ...   \n",
       "max      16.000000    16.000000    15.000000     2.000000    16.000000  ...   \n",
       "\n",
       "         pixel_6_6    pixel_6_7    pixel_7_0    pixel_7_1    pixel_7_2  \\\n",
       "count  1797.000000  1797.000000  1797.000000  1797.000000  1797.000000   \n",
       "mean      3.725097     0.206455     0.000556     0.279354     5.557596   \n",
       "std       4.919406     0.984401     0.023590     0.934302     5.103019   \n",
       "min       0.000000     0.000000     0.000000     0.000000     0.000000   \n",
       "25%       0.000000     0.000000     0.000000     0.000000     1.000000   \n",
       "50%       1.000000     0.000000     0.000000     0.000000     4.000000   \n",
       "75%       7.000000     0.000000     0.000000     0.000000    10.000000   \n",
       "max      16.000000    13.000000     1.000000     9.000000    16.000000   \n",
       "\n",
       "         pixel_7_3    pixel_7_4    pixel_7_5    pixel_7_6    pixel_7_7  \n",
       "count  1797.000000  1797.000000  1797.000000  1797.000000  1797.000000  \n",
       "mean     12.089037    11.809126     6.764051     2.067891     0.364496  \n",
       "std       4.374694     4.933947     5.900623     4.090548     1.860122  \n",
       "min       0.000000     0.000000     0.000000     0.000000     0.000000  \n",
       "25%      11.000000    10.000000     0.000000     0.000000     0.000000  \n",
       "50%      13.000000    14.000000     6.000000     0.000000     0.000000  \n",
       "75%      16.000000    16.000000    12.000000     2.000000     0.000000  \n",
       "max      16.000000    16.000000    16.000000    16.000000    16.000000  \n",
       "\n",
       "[8 rows x 64 columns]"
      ]
     },
     "execution_count": 4,
     "metadata": {},
     "output_type": "execute_result"
    }
   ],
   "source": [
    "digits.data.describe()"
   ]
  },
  {
   "cell_type": "markdown",
   "id": "serial-pontiac",
   "metadata": {},
   "source": [
    "Using the .describe() function, we can check the number of datapoints in each column and that comes to a total of 1797. We can learn about the summary statistics like mean, min, max, std, median, etc from the above table."
   ]
  },
  {
   "cell_type": "code",
   "execution_count": 5,
   "id": "diverse-giant",
   "metadata": {},
   "outputs": [
    {
     "name": "stdout",
     "output_type": "stream",
     "text": [
      "<class 'pandas.core.frame.DataFrame'>\n",
      "RangeIndex: 1797 entries, 0 to 1796\n",
      "Data columns (total 64 columns):\n",
      " #   Column     Non-Null Count  Dtype  \n",
      "---  ------     --------------  -----  \n",
      " 0   pixel_0_0  1797 non-null   float64\n",
      " 1   pixel_0_1  1797 non-null   float64\n",
      " 2   pixel_0_2  1797 non-null   float64\n",
      " 3   pixel_0_3  1797 non-null   float64\n",
      " 4   pixel_0_4  1797 non-null   float64\n",
      " 5   pixel_0_5  1797 non-null   float64\n",
      " 6   pixel_0_6  1797 non-null   float64\n",
      " 7   pixel_0_7  1797 non-null   float64\n",
      " 8   pixel_1_0  1797 non-null   float64\n",
      " 9   pixel_1_1  1797 non-null   float64\n",
      " 10  pixel_1_2  1797 non-null   float64\n",
      " 11  pixel_1_3  1797 non-null   float64\n",
      " 12  pixel_1_4  1797 non-null   float64\n",
      " 13  pixel_1_5  1797 non-null   float64\n",
      " 14  pixel_1_6  1797 non-null   float64\n",
      " 15  pixel_1_7  1797 non-null   float64\n",
      " 16  pixel_2_0  1797 non-null   float64\n",
      " 17  pixel_2_1  1797 non-null   float64\n",
      " 18  pixel_2_2  1797 non-null   float64\n",
      " 19  pixel_2_3  1797 non-null   float64\n",
      " 20  pixel_2_4  1797 non-null   float64\n",
      " 21  pixel_2_5  1797 non-null   float64\n",
      " 22  pixel_2_6  1797 non-null   float64\n",
      " 23  pixel_2_7  1797 non-null   float64\n",
      " 24  pixel_3_0  1797 non-null   float64\n",
      " 25  pixel_3_1  1797 non-null   float64\n",
      " 26  pixel_3_2  1797 non-null   float64\n",
      " 27  pixel_3_3  1797 non-null   float64\n",
      " 28  pixel_3_4  1797 non-null   float64\n",
      " 29  pixel_3_5  1797 non-null   float64\n",
      " 30  pixel_3_6  1797 non-null   float64\n",
      " 31  pixel_3_7  1797 non-null   float64\n",
      " 32  pixel_4_0  1797 non-null   float64\n",
      " 33  pixel_4_1  1797 non-null   float64\n",
      " 34  pixel_4_2  1797 non-null   float64\n",
      " 35  pixel_4_3  1797 non-null   float64\n",
      " 36  pixel_4_4  1797 non-null   float64\n",
      " 37  pixel_4_5  1797 non-null   float64\n",
      " 38  pixel_4_6  1797 non-null   float64\n",
      " 39  pixel_4_7  1797 non-null   float64\n",
      " 40  pixel_5_0  1797 non-null   float64\n",
      " 41  pixel_5_1  1797 non-null   float64\n",
      " 42  pixel_5_2  1797 non-null   float64\n",
      " 43  pixel_5_3  1797 non-null   float64\n",
      " 44  pixel_5_4  1797 non-null   float64\n",
      " 45  pixel_5_5  1797 non-null   float64\n",
      " 46  pixel_5_6  1797 non-null   float64\n",
      " 47  pixel_5_7  1797 non-null   float64\n",
      " 48  pixel_6_0  1797 non-null   float64\n",
      " 49  pixel_6_1  1797 non-null   float64\n",
      " 50  pixel_6_2  1797 non-null   float64\n",
      " 51  pixel_6_3  1797 non-null   float64\n",
      " 52  pixel_6_4  1797 non-null   float64\n",
      " 53  pixel_6_5  1797 non-null   float64\n",
      " 54  pixel_6_6  1797 non-null   float64\n",
      " 55  pixel_6_7  1797 non-null   float64\n",
      " 56  pixel_7_0  1797 non-null   float64\n",
      " 57  pixel_7_1  1797 non-null   float64\n",
      " 58  pixel_7_2  1797 non-null   float64\n",
      " 59  pixel_7_3  1797 non-null   float64\n",
      " 60  pixel_7_4  1797 non-null   float64\n",
      " 61  pixel_7_5  1797 non-null   float64\n",
      " 62  pixel_7_6  1797 non-null   float64\n",
      " 63  pixel_7_7  1797 non-null   float64\n",
      "dtypes: float64(64)\n",
      "memory usage: 898.6 KB\n"
     ]
    }
   ],
   "source": [
    "digits.data.info()"
   ]
  },
  {
   "cell_type": "markdown",
   "id": "sporting-awareness",
   "metadata": {},
   "source": [
    "From the .info() function we can learn that there are no null values in the 1797 datapoints. All the 64 inputs are float64 values and there are no categorical variables."
   ]
  },
  {
   "cell_type": "code",
   "execution_count": 6,
   "id": "antique-rabbit",
   "metadata": {},
   "outputs": [
    {
     "data": {
      "text/plain": [
       "<Figure size 432x288 with 0 Axes>"
      ]
     },
     "metadata": {},
     "output_type": "display_data"
    },
    {
     "data": {
      "image/png": "[encoded data removed]",
      "text/plain": [
       "<Figure size 288x288 with 1 Axes>"
      ]
     },
     "metadata": {},
     "output_type": "display_data"
    }
   ],
   "source": [
    "plt.gray() \n",
    "plt.matshow(digits.images[5]) \n",
    "plt.show()"
   ]
  },
  {
   "cell_type": "code",
   "execution_count": 7,
   "id": "killing-relationship",
   "metadata": {},
   "outputs": [
    {
     "data": {
      "text/html": [
       "<div>\n",
       "<style scoped>\n",
       "    .dataframe tbody tr th:only-of-type {\n",
       "        vertical-align: middle;\n",
       "    }\n",
       "\n",
       "    .dataframe tbody tr th {\n",
       "        vertical-align: top;\n",
       "    }\n",
       "\n",
       "    .dataframe thead th {\n",
       "        text-align: right;\n",
       "    }\n",
       "</style>\n",
       "<table border=\"1\" class=\"dataframe\">\n",
       "  <thead>\n",
       "    <tr style=\"text-align: right;\">\n",
       "      <th></th>\n",
       "      <th>pixel_0_0</th>\n",
       "      <th>pixel_0_1</th>\n",
       "      <th>pixel_0_2</th>\n",
       "      <th>pixel_0_3</th>\n",
       "      <th>pixel_0_4</th>\n",
       "      <th>pixel_0_5</th>\n",
       "      <th>pixel_0_6</th>\n",
       "      <th>pixel_0_7</th>\n",
       "      <th>pixel_1_0</th>\n",
       "      <th>pixel_1_1</th>\n",
       "      <th>...</th>\n",
       "      <th>pixel_6_6</th>\n",
       "      <th>pixel_6_7</th>\n",
       "      <th>pixel_7_0</th>\n",
       "      <th>pixel_7_1</th>\n",
       "      <th>pixel_7_2</th>\n",
       "      <th>pixel_7_3</th>\n",
       "      <th>pixel_7_4</th>\n",
       "      <th>pixel_7_5</th>\n",
       "      <th>pixel_7_6</th>\n",
       "      <th>pixel_7_7</th>\n",
       "    </tr>\n",
       "  </thead>\n",
       "  <tbody>\n",
       "    <tr>\n",
       "      <th>0</th>\n",
       "      <td>0.0</td>\n",
       "      <td>0.0</td>\n",
       "      <td>5.0</td>\n",
       "      <td>13.0</td>\n",
       "      <td>9.0</td>\n",
       "      <td>1.0</td>\n",
       "      <td>0.0</td>\n",
       "      <td>0.0</td>\n",
       "      <td>0.0</td>\n",
       "      <td>0.0</td>\n",
       "      <td>...</td>\n",
       "      <td>0.0</td>\n",
       "      <td>0.0</td>\n",
       "      <td>0.0</td>\n",
       "      <td>0.0</td>\n",
       "      <td>6.0</td>\n",
       "      <td>13.0</td>\n",
       "      <td>10.0</td>\n",
       "      <td>0.0</td>\n",
       "      <td>0.0</td>\n",
       "      <td>0.0</td>\n",
       "    </tr>\n",
       "    <tr>\n",
       "      <th>1</th>\n",
       "      <td>0.0</td>\n",
       "      <td>0.0</td>\n",
       "      <td>0.0</td>\n",
       "      <td>12.0</td>\n",
       "      <td>13.0</td>\n",
       "      <td>5.0</td>\n",
       "      <td>0.0</td>\n",
       "      <td>0.0</td>\n",
       "      <td>0.0</td>\n",
       "      <td>0.0</td>\n",
       "      <td>...</td>\n",
       "      <td>0.0</td>\n",
       "      <td>0.0</td>\n",
       "      <td>0.0</td>\n",
       "      <td>0.0</td>\n",
       "      <td>0.0</td>\n",
       "      <td>11.0</td>\n",
       "      <td>16.0</td>\n",
       "      <td>10.0</td>\n",
       "      <td>0.0</td>\n",
       "      <td>0.0</td>\n",
       "    </tr>\n",
       "    <tr>\n",
       "      <th>2</th>\n",
       "      <td>0.0</td>\n",
       "      <td>0.0</td>\n",
       "      <td>0.0</td>\n",
       "      <td>4.0</td>\n",
       "      <td>15.0</td>\n",
       "      <td>12.0</td>\n",
       "      <td>0.0</td>\n",
       "      <td>0.0</td>\n",
       "      <td>0.0</td>\n",
       "      <td>0.0</td>\n",
       "      <td>...</td>\n",
       "      <td>5.0</td>\n",
       "      <td>0.0</td>\n",
       "      <td>0.0</td>\n",
       "      <td>0.0</td>\n",
       "      <td>0.0</td>\n",
       "      <td>3.0</td>\n",
       "      <td>11.0</td>\n",
       "      <td>16.0</td>\n",
       "      <td>9.0</td>\n",
       "      <td>0.0</td>\n",
       "    </tr>\n",
       "    <tr>\n",
       "      <th>3</th>\n",
       "      <td>0.0</td>\n",
       "      <td>0.0</td>\n",
       "      <td>7.0</td>\n",
       "      <td>15.0</td>\n",
       "      <td>13.0</td>\n",
       "      <td>1.0</td>\n",
       "      <td>0.0</td>\n",
       "      <td>0.0</td>\n",
       "      <td>0.0</td>\n",
       "      <td>8.0</td>\n",
       "      <td>...</td>\n",
       "      <td>9.0</td>\n",
       "      <td>0.0</td>\n",
       "      <td>0.0</td>\n",
       "      <td>0.0</td>\n",
       "      <td>7.0</td>\n",
       "      <td>13.0</td>\n",
       "      <td>13.0</td>\n",
       "      <td>9.0</td>\n",
       "      <td>0.0</td>\n",
       "      <td>0.0</td>\n",
       "    </tr>\n",
       "    <tr>\n",
       "      <th>4</th>\n",
       "      <td>0.0</td>\n",
       "      <td>0.0</td>\n",
       "      <td>0.0</td>\n",
       "      <td>1.0</td>\n",
       "      <td>11.0</td>\n",
       "      <td>0.0</td>\n",
       "      <td>0.0</td>\n",
       "      <td>0.0</td>\n",
       "      <td>0.0</td>\n",
       "      <td>0.0</td>\n",
       "      <td>...</td>\n",
       "      <td>0.0</td>\n",
       "      <td>0.0</td>\n",
       "      <td>0.0</td>\n",
       "      <td>0.0</td>\n",
       "      <td>0.0</td>\n",
       "      <td>2.0</td>\n",
       "      <td>16.0</td>\n",
       "      <td>4.0</td>\n",
       "      <td>0.0</td>\n",
       "      <td>0.0</td>\n",
       "    </tr>\n",
       "    <tr>\n",
       "      <th>...</th>\n",
       "      <td>...</td>\n",
       "      <td>...</td>\n",
       "      <td>...</td>\n",
       "      <td>...</td>\n",
       "      <td>...</td>\n",
       "      <td>...</td>\n",
       "      <td>...</td>\n",
       "      <td>...</td>\n",
       "      <td>...</td>\n",
       "      <td>...</td>\n",
       "      <td>...</td>\n",
       "      <td>...</td>\n",
       "      <td>...</td>\n",
       "      <td>...</td>\n",
       "      <td>...</td>\n",
       "      <td>...</td>\n",
       "      <td>...</td>\n",
       "      <td>...</td>\n",
       "      <td>...</td>\n",
       "      <td>...</td>\n",
       "      <td>...</td>\n",
       "    </tr>\n",
       "    <tr>\n",
       "      <th>1792</th>\n",
       "      <td>0.0</td>\n",
       "      <td>0.0</td>\n",
       "      <td>4.0</td>\n",
       "      <td>10.0</td>\n",
       "      <td>13.0</td>\n",
       "      <td>6.0</td>\n",
       "      <td>0.0</td>\n",
       "      <td>0.0</td>\n",
       "      <td>0.0</td>\n",
       "      <td>1.0</td>\n",
       "      <td>...</td>\n",
       "      <td>4.0</td>\n",
       "      <td>0.0</td>\n",
       "      <td>0.0</td>\n",
       "      <td>0.0</td>\n",
       "      <td>2.0</td>\n",
       "      <td>14.0</td>\n",
       "      <td>15.0</td>\n",
       "      <td>9.0</td>\n",
       "      <td>0.0</td>\n",
       "      <td>0.0</td>\n",
       "    </tr>\n",
       "    <tr>\n",
       "      <th>1793</th>\n",
       "      <td>0.0</td>\n",
       "      <td>0.0</td>\n",
       "      <td>6.0</td>\n",
       "      <td>16.0</td>\n",
       "      <td>13.0</td>\n",
       "      <td>11.0</td>\n",
       "      <td>1.0</td>\n",
       "      <td>0.0</td>\n",
       "      <td>0.0</td>\n",
       "      <td>0.0</td>\n",
       "      <td>...</td>\n",
       "      <td>1.0</td>\n",
       "      <td>0.0</td>\n",
       "      <td>0.0</td>\n",
       "      <td>0.0</td>\n",
       "      <td>6.0</td>\n",
       "      <td>16.0</td>\n",
       "      <td>14.0</td>\n",
       "      <td>6.0</td>\n",
       "      <td>0.0</td>\n",
       "      <td>0.0</td>\n",
       "    </tr>\n",
       "    <tr>\n",
       "      <th>1794</th>\n",
       "      <td>0.0</td>\n",
       "      <td>0.0</td>\n",
       "      <td>1.0</td>\n",
       "      <td>11.0</td>\n",
       "      <td>15.0</td>\n",
       "      <td>1.0</td>\n",
       "      <td>0.0</td>\n",
       "      <td>0.0</td>\n",
       "      <td>0.0</td>\n",
       "      <td>0.0</td>\n",
       "      <td>...</td>\n",
       "      <td>0.0</td>\n",
       "      <td>0.0</td>\n",
       "      <td>0.0</td>\n",
       "      <td>0.0</td>\n",
       "      <td>2.0</td>\n",
       "      <td>9.0</td>\n",
       "      <td>13.0</td>\n",
       "      <td>6.0</td>\n",
       "      <td>0.0</td>\n",
       "      <td>0.0</td>\n",
       "    </tr>\n",
       "    <tr>\n",
       "      <th>1795</th>\n",
       "      <td>0.0</td>\n",
       "      <td>0.0</td>\n",
       "      <td>2.0</td>\n",
       "      <td>10.0</td>\n",
       "      <td>7.0</td>\n",
       "      <td>0.0</td>\n",
       "      <td>0.0</td>\n",
       "      <td>0.0</td>\n",
       "      <td>0.0</td>\n",
       "      <td>0.0</td>\n",
       "      <td>...</td>\n",
       "      <td>2.0</td>\n",
       "      <td>0.0</td>\n",
       "      <td>0.0</td>\n",
       "      <td>0.0</td>\n",
       "      <td>5.0</td>\n",
       "      <td>12.0</td>\n",
       "      <td>16.0</td>\n",
       "      <td>12.0</td>\n",
       "      <td>0.0</td>\n",
       "      <td>0.0</td>\n",
       "    </tr>\n",
       "    <tr>\n",
       "      <th>1796</th>\n",
       "      <td>0.0</td>\n",
       "      <td>0.0</td>\n",
       "      <td>10.0</td>\n",
       "      <td>14.0</td>\n",
       "      <td>8.0</td>\n",
       "      <td>1.0</td>\n",
       "      <td>0.0</td>\n",
       "      <td>0.0</td>\n",
       "      <td>0.0</td>\n",
       "      <td>2.0</td>\n",
       "      <td>...</td>\n",
       "      <td>8.0</td>\n",
       "      <td>0.0</td>\n",
       "      <td>0.0</td>\n",
       "      <td>1.0</td>\n",
       "      <td>8.0</td>\n",
       "      <td>12.0</td>\n",
       "      <td>14.0</td>\n",
       "      <td>12.0</td>\n",
       "      <td>1.0</td>\n",
       "      <td>0.0</td>\n",
       "    </tr>\n",
       "  </tbody>\n",
       "</table>\n",
       "<p>1797 rows × 64 columns</p>\n",
       "</div>"
      ],
      "text/plain": [
       "      pixel_0_0  pixel_0_1  pixel_0_2  pixel_0_3  pixel_0_4  pixel_0_5  \\\n",
       "0           0.0        0.0        5.0       13.0        9.0        1.0   \n",
       "1           0.0        0.0        0.0       12.0       13.0        5.0   \n",
       "2           0.0        0.0        0.0        4.0       15.0       12.0   \n",
       "3           0.0        0.0        7.0       15.0       13.0        1.0   \n",
       "4           0.0        0.0        0.0        1.0       11.0        0.0   \n",
       "...         ...        ...        ...        ...        ...        ...   \n",
       "1792        0.0        0.0        4.0       10.0       13.0        6.0   \n",
       "1793        0.0        0.0        6.0       16.0       13.0       11.0   \n",
       "1794        0.0        0.0        1.0       11.0       15.0        1.0   \n",
       "1795        0.0        0.0        2.0       10.0        7.0        0.0   \n",
       "1796        0.0        0.0       10.0       14.0        8.0        1.0   \n",
       "\n",
       "      pixel_0_6  pixel_0_7  pixel_1_0  pixel_1_1  ...  pixel_6_6  pixel_6_7  \\\n",
       "0           0.0        0.0        0.0        0.0  ...        0.0        0.0   \n",
       "1           0.0        0.0        0.0        0.0  ...        0.0        0.0   \n",
       "2           0.0        0.0        0.0        0.0  ...        5.0        0.0   \n",
       "3           0.0        0.0        0.0        8.0  ...        9.0        0.0   \n",
       "4           0.0        0.0        0.0        0.0  ...        0.0        0.0   \n",
       "...         ...        ...        ...        ...  ...        ...        ...   \n",
       "1792        0.0        0.0        0.0        1.0  ...        4.0        0.0   \n",
       "1793        1.0        0.0        0.0        0.0  ...        1.0        0.0   \n",
       "1794        0.0        0.0        0.0        0.0  ...        0.0        0.0   \n",
       "1795        0.0        0.0        0.0        0.0  ...        2.0        0.0   \n",
       "1796        0.0        0.0        0.0        2.0  ...        8.0        0.0   \n",
       "\n",
       "      pixel_7_0  pixel_7_1  pixel_7_2  pixel_7_3  pixel_7_4  pixel_7_5  \\\n",
       "0           0.0        0.0        6.0       13.0       10.0        0.0   \n",
       "1           0.0        0.0        0.0       11.0       16.0       10.0   \n",
       "2           0.0        0.0        0.0        3.0       11.0       16.0   \n",
       "3           0.0        0.0        7.0       13.0       13.0        9.0   \n",
       "4           0.0        0.0        0.0        2.0       16.0        4.0   \n",
       "...         ...        ...        ...        ...        ...        ...   \n",
       "1792        0.0        0.0        2.0       14.0       15.0        9.0   \n",
       "1793        0.0        0.0        6.0       16.0       14.0        6.0   \n",
       "1794        0.0        0.0        2.0        9.0       13.0        6.0   \n",
       "1795        0.0        0.0        5.0       12.0       16.0       12.0   \n",
       "1796        0.0        1.0        8.0       12.0       14.0       12.0   \n",
       "\n",
       "      pixel_7_6  pixel_7_7  \n",
       "0           0.0        0.0  \n",
       "1           0.0        0.0  \n",
       "2           9.0        0.0  \n",
       "3           0.0        0.0  \n",
       "4           0.0        0.0  \n",
       "...         ...        ...  \n",
       "1792        0.0        0.0  \n",
       "1793        0.0        0.0  \n",
       "1794        0.0        0.0  \n",
       "1795        0.0        0.0  \n",
       "1796        1.0        0.0  \n",
       "\n",
       "[1797 rows x 64 columns]"
      ]
     },
     "execution_count": 7,
     "metadata": {},
     "output_type": "execute_result"
    }
   ],
   "source": [
    "digits.data"
   ]
  },
  {
   "cell_type": "code",
   "execution_count": 8,
   "id": "horizontal-exhaust",
   "metadata": {},
   "outputs": [
    {
     "data": {
      "text/plain": [
       "array([0, 1, 2, 3, 4, 5, 6, 7, 8, 9])"
      ]
     },
     "execution_count": 8,
     "metadata": {},
     "output_type": "execute_result"
    }
   ],
   "source": [
    "digits.target_names"
   ]
  },
  {
   "cell_type": "code",
   "execution_count": 9,
   "id": "noble-moore",
   "metadata": {},
   "outputs": [
    {
     "name": "stdout",
     "output_type": "stream",
     "text": [
      "[[0.0000e+00 1.0000e+00 2.0000e+00 3.0000e+00 4.0000e+00 5.0000e+00\n",
      "  6.0000e+00 7.0000e+00 8.0000e+00 9.0000e+00 1.0000e+01 1.1000e+01\n",
      "  1.2000e+01 1.3000e+01 1.4000e+01 1.5000e+01 1.6000e+01]\n",
      " [5.6272e+04 4.0950e+03 3.2960e+03 2.9440e+03 3.2610e+03 2.8030e+03\n",
      "  2.5590e+03 2.6270e+03 3.4640e+03 2.5850e+03 2.7110e+03 2.8450e+03\n",
      "  3.6680e+03 3.5090e+03 3.6090e+03 4.3040e+03 1.0456e+04]]\n"
     ]
    }
   ],
   "source": [
    "unique_elements, counts_elements = np.unique(digits.images, return_counts=True)\n",
    "print(np.asarray((unique_elements, counts_elements)))"
   ]
  },
  {
   "cell_type": "code",
   "execution_count": 10,
   "id": "competent-malta",
   "metadata": {},
   "outputs": [
    {
     "data": {
      "image/png": "[encoded data removed]",
      "text/plain": [
       "<Figure size 432x288 with 1 Axes>"
      ]
     },
     "metadata": {},
     "output_type": "display_data"
    }
   ],
   "source": [
    "import matplotlib.pyplot as plt\n",
    "from sklearn.decomposition import PCA\n",
    "from sklearn.cluster import KMeans\n",
    "\n",
    "data, labels = load_digits(return_X_y=True)\n",
    "(n_samples, n_features), n_digits = data.shape, np.unique(labels).size\n",
    "\n",
    "reduced_data = PCA(n_components=2).fit_transform(data)\n",
    "kmeans = KMeans(init=\"k-means++\", n_clusters=n_digits, n_init=4)\n",
    "kmeans.fit(reduced_data)\n",
    "\n",
    "# Step size of the mesh. Decrease to increase the quality of the VQ.\n",
    "h = .02     # point in the mesh [x_min, x_max]x[y_min, y_max].\n",
    "\n",
    "# Plot the decision boundary. For that, we will assign a color to each\n",
    "x_min, x_max = reduced_data[:, 0].min() - 1, reduced_data[:, 0].max() + 1\n",
    "y_min, y_max = reduced_data[:, 1].min() - 1, reduced_data[:, 1].max() + 1\n",
    "xx, yy = np.meshgrid(np.arange(x_min, x_max, h), np.arange(y_min, y_max, h))\n",
    "\n",
    "# Obtain labels for each point in mesh. Use last trained model.\n",
    "Z = kmeans.predict(np.c_[xx.ravel(), yy.ravel()])\n",
    "\n",
    "# Put the result into a color plot\n",
    "Z = Z.reshape(xx.shape)\n",
    "plt.figure(1)\n",
    "plt.clf()\n",
    "plt.imshow(Z, interpolation=\"nearest\",\n",
    "           extent=(xx.min(), xx.max(), yy.min(), yy.max()),\n",
    "           cmap=plt.cm.Paired, aspect=\"auto\", origin=\"lower\")\n",
    "\n",
    "plt.plot(reduced_data[:, 0], reduced_data[:, 1], 'k.', markersize=2)\n",
    "# Plot the centroids as a white X\n",
    "centroids = kmeans.cluster_centers_\n",
    "plt.scatter(centroids[:, 0], centroids[:, 1], marker=\"x\", s=169, linewidths=3,\n",
    "            color=\"w\", zorder=10)\n",
    "plt.title(\"K-means clustering on the digits dataset (PCA-reduced data)\\n\"\n",
    "          \"Centroids are marked with white cross\")\n",
    "plt.xlim(x_min, x_max)\n",
    "plt.ylim(y_min, y_max)\n",
    "plt.xticks(())\n",
    "plt.yticks(())\n",
    "plt.show()"
   ]
  },
  {
   "cell_type": "code",
   "execution_count": 11,
   "id": "accurate-reproduction",
   "metadata": {},
   "outputs": [
    {
     "data": {
      "text/plain": [
       "<matplotlib.colorbar.Colorbar at 0x7f744b4e1280>"
      ]
     },
     "execution_count": 11,
     "metadata": {},
     "output_type": "execute_result"
    },
    {
     "data": {
      "image/png": "[encoded data removed]",
      "text/plain": [
       "<Figure size 432x288 with 2 Axes>"
      ]
     },
     "metadata": {},
     "output_type": "display_data"
    }
   ],
   "source": [
    "pca = PCA(n_components=2)\n",
    "proj = pca.fit_transform(digits.data)\n",
    "plt.scatter(proj[:, 0], proj[:, 1], c=digits.target, cmap=\"Paired\")\n",
    "plt.colorbar()"
   ]
  },
  {
   "cell_type": "markdown",
   "id": "brown-tokyo",
   "metadata": {},
   "source": [
    "Description: \n",
    "The Principle Component Analysis technique is used in this problem to cluster the datapoints based on the different classes and to visualize the dataset. "
   ]
  },
  {
   "cell_type": "markdown",
   "id": "computational-guyana",
   "metadata": {},
   "source": [
    "Part d)"
   ]
  },
  {
   "cell_type": "markdown",
   "id": "failing-section",
   "metadata": {},
   "source": [
    "Using 2 classes: 5 or not 5"
   ]
  },
  {
   "cell_type": "code",
   "execution_count": 12,
   "id": "raising-modification",
   "metadata": {},
   "outputs": [
    {
     "data": {
      "text/plain": [
       "array([[ 0.,  0., 12., 10.,  0.,  0.,  0.,  0.],\n",
       "       [ 0.,  0., 14., 16., 16., 14.,  0.,  0.],\n",
       "       [ 0.,  0., 13., 16., 15., 10.,  1.,  0.],\n",
       "       [ 0.,  0., 11., 16., 16.,  7.,  0.,  0.],\n",
       "       [ 0.,  0.,  0.,  4.,  7., 16.,  7.,  0.],\n",
       "       [ 0.,  0.,  0.,  0.,  4., 16.,  9.,  0.],\n",
       "       [ 0.,  0.,  5.,  4., 12., 16.,  4.,  0.],\n",
       "       [ 0.,  0.,  9., 16., 16., 10.,  0.,  0.]])"
      ]
     },
     "execution_count": 12,
     "metadata": {},
     "output_type": "execute_result"
    }
   ],
   "source": [
    "digits.images[5]"
   ]
  },
  {
   "cell_type": "code",
   "execution_count": 13,
   "id": "resistant-transition",
   "metadata": {},
   "outputs": [],
   "source": [
    "from sklearn.model_selection import train_test_split\n",
    "\n",
    "bin_class = digits.target\n",
    "\n",
    "bin_class = bin_class.replace([0,1,2,3,4,6,7,8,9],0)\n",
    "bin_class = bin_class.replace([5],1)\n",
    "\n",
    "X_train, X_test, y_train, y_test = train_test_split(digits.data, bin_class, test_size=0.5, shuffle=False)"
   ]
  },
  {
   "cell_type": "code",
   "execution_count": 14,
   "id": "flying-sucking",
   "metadata": {},
   "outputs": [
    {
     "data": {
      "text/plain": [
       "0    1615\n",
       "1     182\n",
       "Name: target, dtype: int64"
      ]
     },
     "execution_count": 14,
     "metadata": {},
     "output_type": "execute_result"
    }
   ],
   "source": [
    "bin_class.value_counts()"
   ]
  },
  {
   "cell_type": "code",
   "execution_count": 15,
   "id": "outside-trigger",
   "metadata": {},
   "outputs": [
    {
     "data": {
      "text/plain": [
       "(898, 64)"
      ]
     },
     "execution_count": 15,
     "metadata": {},
     "output_type": "execute_result"
    }
   ],
   "source": [
    "X_train.shape"
   ]
  },
  {
   "cell_type": "markdown",
   "id": "random-timer",
   "metadata": {},
   "source": [
    "**KNN - Binary Classification**"
   ]
  },
  {
   "cell_type": "code",
   "execution_count": 16,
   "id": "behavioral-michigan",
   "metadata": {},
   "outputs": [
    {
     "data": {
      "text/plain": [
       "KNeighborsClassifier(n_neighbors=3)"
      ]
     },
     "execution_count": 16,
     "metadata": {},
     "output_type": "execute_result"
    }
   ],
   "source": [
    "from sklearn.neighbors import KNeighborsClassifier\n",
    "neigh = KNeighborsClassifier(n_neighbors=3)\n",
    "neigh.fit(X_train, y_train)"
   ]
  },
  {
   "cell_type": "code",
   "execution_count": 17,
   "id": "cleared-oregon",
   "metadata": {},
   "outputs": [],
   "source": [
    "train_predicted = neigh.predict(X_train)"
   ]
  },
  {
   "cell_type": "code",
   "execution_count": 19,
   "id": "digital-listing",
   "metadata": {},
   "outputs": [
    {
     "name": "stdout",
     "output_type": "stream",
     "text": [
      "Classification report for classifier KNeighborsClassifier(n_neighbors=3):\n",
      "              precision    recall  f1-score   support\n",
      "\n",
      "           0       1.00      1.00      1.00       807\n",
      "           1       1.00      0.99      0.99        91\n",
      "\n",
      "    accuracy                           1.00       898\n",
      "   macro avg       1.00      0.99      1.00       898\n",
      "weighted avg       1.00      1.00      1.00       898\n",
      "\n",
      "\n"
     ]
    }
   ],
   "source": [
    "import sklearn.metrics as metrics\n",
    "\n",
    "print(f\"Classification report for classifier {neigh}:\\n\"\n",
    "f\"{metrics.classification_report(y_train, train_predicted)}\\n\")"
   ]
  },
  {
   "cell_type": "code",
   "execution_count": 20,
   "id": "durable-oklahoma",
   "metadata": {},
   "outputs": [],
   "source": [
    "predicted = neigh.predict(X_test)"
   ]
  },
  {
   "cell_type": "code",
   "execution_count": 21,
   "id": "likely-thompson",
   "metadata": {},
   "outputs": [
    {
     "data": {
      "text/plain": [
       "0.9933259176863182"
      ]
     },
     "execution_count": 21,
     "metadata": {},
     "output_type": "execute_result"
    }
   ],
   "source": [
    "neigh.score(X_test, y_test)"
   ]
  },
  {
   "cell_type": "code",
   "execution_count": 22,
   "id": "hollow-ticket",
   "metadata": {},
   "outputs": [
    {
     "name": "stdout",
     "output_type": "stream",
     "text": [
      "Classification report for classifier KNeighborsClassifier(n_neighbors=3):\n",
      "              precision    recall  f1-score   support\n",
      "\n",
      "           0       1.00      1.00      1.00       808\n",
      "           1       0.97      0.97      0.97        91\n",
      "\n",
      "    accuracy                           0.99       899\n",
      "   macro avg       0.98      0.98      0.98       899\n",
      "weighted avg       0.99      0.99      0.99       899\n",
      "\n",
      "\n"
     ]
    }
   ],
   "source": [
    "print(f\"Classification report for classifier {neigh}:\\n\"\n",
    "f\"{metrics.classification_report(y_test, predicted)}\\n\")"
   ]
  },
  {
   "cell_type": "code",
   "execution_count": 23,
   "id": "joined-rouge",
   "metadata": {},
   "outputs": [
    {
     "name": "stdout",
     "output_type": "stream",
     "text": [
      "Confusion matrix:\n",
      "[[805   3]\n",
      " [  3  88]]\n"
     ]
    },
    {
     "data": {
      "image/png": "[encoded data removed]",
      "text/plain": [
       "<Figure size 432x288 with 2 Axes>"
      ]
     },
     "metadata": {},
     "output_type": "display_data"
    }
   ],
   "source": [
    "disp = metrics.plot_confusion_matrix(neigh, X_test, y_test)\n",
    "disp.figure_.suptitle(\"Confusion Matrix\")\n",
    "print(f\"Confusion matrix:\\n{disp.confusion_matrix}\")"
   ]
  },
  {
   "cell_type": "markdown",
   "id": "developed-classification",
   "metadata": {},
   "source": [
    "From the confusion matrix we can see that the most of the datapoints have been correctly classified into the positive and negative classes(TP and TN). The accuracy of KNN for this binary classification is 99%."
   ]
  },
  {
   "cell_type": "markdown",
   "id": "filled-sitting",
   "metadata": {},
   "source": [
    "**Logistic Regression - Binary Classification**"
   ]
  },
  {
   "cell_type": "code",
   "execution_count": 24,
   "id": "governmental-pendant",
   "metadata": {},
   "outputs": [
    {
     "data": {
      "text/plain": [
       "LogisticRegression(solver='newton-cg')"
      ]
     },
     "execution_count": 24,
     "metadata": {},
     "output_type": "execute_result"
    }
   ],
   "source": [
    "clf = skl_lm.LogisticRegression(solver='newton-cg')\n",
    "\n",
    "clf.fit(X_train, y_train)"
   ]
  },
  {
   "cell_type": "code",
   "execution_count": 25,
   "id": "neural-jimmy",
   "metadata": {},
   "outputs": [],
   "source": [
    "training_predicted = clf.predict(X_train)"
   ]
  },
  {
   "cell_type": "code",
   "execution_count": 26,
   "id": "solved-mineral",
   "metadata": {},
   "outputs": [
    {
     "name": "stdout",
     "output_type": "stream",
     "text": [
      "Classification report for classifier LogisticRegression(solver='newton-cg'):\n",
      "              precision    recall  f1-score   support\n",
      "\n",
      "           0       1.00      1.00      1.00       807\n",
      "           1       1.00      1.00      1.00        91\n",
      "\n",
      "    accuracy                           1.00       898\n",
      "   macro avg       1.00      1.00      1.00       898\n",
      "weighted avg       1.00      1.00      1.00       898\n",
      "\n",
      "\n"
     ]
    }
   ],
   "source": [
    "print(f\"Classification report for classifier {clf}:\\n\"\n",
    "f\"{metrics.classification_report(y_train, training_predicted)}\\n\")"
   ]
  },
  {
   "cell_type": "code",
   "execution_count": 27,
   "id": "fabulous-plumbing",
   "metadata": {},
   "outputs": [],
   "source": [
    "predicted = clf.predict(X_test)"
   ]
  },
  {
   "cell_type": "code",
   "execution_count": 28,
   "id": "italian-disorder",
   "metadata": {},
   "outputs": [
    {
     "data": {
      "text/plain": [
       "0.9799777530589544"
      ]
     },
     "execution_count": 28,
     "metadata": {},
     "output_type": "execute_result"
    }
   ],
   "source": [
    "clf.score(X_test, y_test)"
   ]
  },
  {
   "cell_type": "code",
   "execution_count": 29,
   "id": "native-staff",
   "metadata": {},
   "outputs": [
    {
     "name": "stdout",
     "output_type": "stream",
     "text": [
      "Classification report for classifier LogisticRegression(solver='newton-cg'):\n",
      "              precision    recall  f1-score   support\n",
      "\n",
      "           0       0.99      0.99      0.99       808\n",
      "           1       0.88      0.93      0.90        91\n",
      "\n",
      "    accuracy                           0.98       899\n",
      "   macro avg       0.93      0.96      0.95       899\n",
      "weighted avg       0.98      0.98      0.98       899\n",
      "\n",
      "\n"
     ]
    }
   ],
   "source": [
    "print(f\"Classification report for classifier {clf}:\\n\"\n",
    "f\"{metrics.classification_report(y_test, predicted)}\\n\")"
   ]
  },
  {
   "cell_type": "code",
   "execution_count": 30,
   "id": "hollow-darkness",
   "metadata": {},
   "outputs": [
    {
     "name": "stdout",
     "output_type": "stream",
     "text": [
      "Confusion matrix:\n",
      "[[796  12]\n",
      " [  6  85]]\n"
     ]
    },
    {
     "data": {
      "image/png": "[encoded data removed]",
      "text/plain": [
       "<Figure size 432x288 with 2 Axes>"
      ]
     },
     "metadata": {},
     "output_type": "display_data"
    }
   ],
   "source": [
    "disp = metrics.plot_confusion_matrix(clf, X_test, y_test)\n",
    "disp.figure_.suptitle(\"Confusion Matrix\")\n",
    "print(f\"Confusion matrix:\\n{disp.confusion_matrix}\")\n",
    "\n",
    "plt.show()"
   ]
  },
  {
   "cell_type": "markdown",
   "id": "regulation-killer",
   "metadata": {},
   "source": [
    "From the confusion matrix we can see that the most of the datapoints have been correctly classified into the positive and negative classes(TP and TN), but lesser compared to that of KNN. The accuracy of Logistic Regression for this binary classification is 97%."
   ]
  },
  {
   "cell_type": "markdown",
   "id": "dietary-membership",
   "metadata": {},
   "source": [
    "**LDA - Binary Classification**"
   ]
  },
  {
   "cell_type": "code",
   "execution_count": 31,
   "id": "racial-montreal",
   "metadata": {},
   "outputs": [],
   "source": [
    "lda = LinearDiscriminantAnalysis(solver='svd')"
   ]
  },
  {
   "cell_type": "code",
   "execution_count": 32,
   "id": "practical-stocks",
   "metadata": {},
   "outputs": [],
   "source": [
    "ytrain_pred = lda.fit(X_train, y_train).predict(X_train)"
   ]
  },
  {
   "cell_type": "code",
   "execution_count": 33,
   "id": "suited-diana",
   "metadata": {},
   "outputs": [
    {
     "name": "stdout",
     "output_type": "stream",
     "text": [
      "Classification report for classifier LinearDiscriminantAnalysis():\n",
      "              precision    recall  f1-score   support\n",
      "\n",
      "           0       0.99      1.00      1.00       807\n",
      "           1       1.00      0.95      0.97        91\n",
      "\n",
      "    accuracy                           0.99       898\n",
      "   macro avg       1.00      0.97      0.98       898\n",
      "weighted avg       0.99      0.99      0.99       898\n",
      "\n",
      "\n"
     ]
    }
   ],
   "source": [
    "print(f\"Classification report for classifier {lda}:\\n\"\n",
    "f\"{metrics.classification_report(y_train, ytrain_pred)}\\n\")"
   ]
  },
  {
   "cell_type": "code",
   "execution_count": 34,
   "id": "daily-polls",
   "metadata": {},
   "outputs": [],
   "source": [
    "y_pred = lda.fit(X_train, y_train).predict(X_test)"
   ]
  },
  {
   "cell_type": "code",
   "execution_count": 35,
   "id": "parliamentary-pride",
   "metadata": {},
   "outputs": [
    {
     "data": {
      "text/plain": [
       "0.9688542825361512"
      ]
     },
     "execution_count": 35,
     "metadata": {},
     "output_type": "execute_result"
    }
   ],
   "source": [
    "lda.score(X_test,y_test)"
   ]
  },
  {
   "cell_type": "code",
   "execution_count": 36,
   "id": "foster-sudan",
   "metadata": {},
   "outputs": [
    {
     "name": "stdout",
     "output_type": "stream",
     "text": [
      "Classification report for classifier LinearDiscriminantAnalysis():\n",
      "              precision    recall  f1-score   support\n",
      "\n",
      "           0       0.99      0.98      0.98       808\n",
      "           1       0.82      0.88      0.85        91\n",
      "\n",
      "    accuracy                           0.97       899\n",
      "   macro avg       0.91      0.93      0.92       899\n",
      "weighted avg       0.97      0.97      0.97       899\n",
      "\n",
      "\n"
     ]
    }
   ],
   "source": [
    "print(f\"Classification report for classifier {lda}:\\n\"\n",
    "f\"{metrics.classification_report(y_test, y_pred)}\\n\")"
   ]
  },
  {
   "cell_type": "code",
   "execution_count": 37,
   "id": "fourth-composition",
   "metadata": {},
   "outputs": [
    {
     "name": "stdout",
     "output_type": "stream",
     "text": [
      "Confusion matrix:\n",
      "[[791  17]\n",
      " [ 11  80]]\n"
     ]
    },
    {
     "data": {
      "image/png": "[encoded data removed]",
      "text/plain": [
       "<Figure size 432x288 with 2 Axes>"
      ]
     },
     "metadata": {},
     "output_type": "display_data"
    }
   ],
   "source": [
    "disp = metrics.plot_confusion_matrix(lda, X_test, y_test)\n",
    "disp.figure_.suptitle(\"Confusion Matrix\")\n",
    "print(f\"Confusion matrix:\\n{disp.confusion_matrix}\")\n",
    "\n",
    "plt.show()"
   ]
  },
  {
   "cell_type": "markdown",
   "id": "scientific-asbestos",
   "metadata": {},
   "source": [
    "From the confusion matrix we can see that the most of the datapoints have been correctly classified into the positive and negative classes(TP and TN), but lesser compared to that of KNN and Logistic Regression. The accuracy of LDA for this binary classification is 96%."
   ]
  },
  {
   "cell_type": "markdown",
   "id": "pursuant-vertical",
   "metadata": {},
   "source": [
    "**QDA -Binary Classification**"
   ]
  },
  {
   "cell_type": "code",
   "execution_count": 38,
   "id": "nuclear-steam",
   "metadata": {},
   "outputs": [
    {
     "name": "stderr",
     "output_type": "stream",
     "text": [
      "/home/poojanp/ml/my_env/lib/python3.8/site-packages/sklearn/discriminant_analysis.py:808: UserWarning: Variables are collinear\n",
      "  warnings.warn(\"Variables are collinear\")\n"
     ]
    },
    {
     "data": {
      "text/plain": [
       "QuadraticDiscriminantAnalysis()"
      ]
     },
     "execution_count": 38,
     "metadata": {},
     "output_type": "execute_result"
    }
   ],
   "source": [
    "from sklearn.discriminant_analysis import QuadraticDiscriminantAnalysis\n",
    "\n",
    "qda = QuadraticDiscriminantAnalysis()\n",
    "qda.fit(X_train, y_train)"
   ]
  },
  {
   "cell_type": "code",
   "execution_count": 39,
   "id": "outside-array",
   "metadata": {},
   "outputs": [
    {
     "name": "stderr",
     "output_type": "stream",
     "text": [
      "/home/poojanp/ml/my_env/lib/python3.8/site-packages/sklearn/discriminant_analysis.py:808: UserWarning: Variables are collinear\n",
      "  warnings.warn(\"Variables are collinear\")\n"
     ]
    }
   ],
   "source": [
    "ytrain_pred = qda.fit(X_train, y_train).predict(X_train)"
   ]
  },
  {
   "cell_type": "code",
   "execution_count": 41,
   "id": "legislative-raise",
   "metadata": {},
   "outputs": [
    {
     "name": "stdout",
     "output_type": "stream",
     "text": [
      "Classification report for classifier QuadraticDiscriminantAnalysis():\n",
      "              precision    recall  f1-score   support\n",
      "\n",
      "           0       1.00      0.92      0.96       807\n",
      "           1       0.58      1.00      0.73        91\n",
      "\n",
      "    accuracy                           0.93       898\n",
      "   macro avg       0.79      0.96      0.85       898\n",
      "weighted avg       0.96      0.93      0.93       898\n",
      "\n",
      "\n"
     ]
    }
   ],
   "source": [
    "print(f\"Classification report for classifier {qda}:\\n\"\n",
    "f\"{metrics.classification_report(y_train, ytrain_pred)}\\n\")"
   ]
  },
  {
   "cell_type": "code",
   "execution_count": 42,
   "id": "oriental-tract",
   "metadata": {},
   "outputs": [],
   "source": [
    "y_pred = qda.predict(X_test)"
   ]
  },
  {
   "cell_type": "code",
   "execution_count": 43,
   "id": "gentle-communication",
   "metadata": {},
   "outputs": [
    {
     "data": {
      "text/plain": [
       "0.8731924360400445"
      ]
     },
     "execution_count": 43,
     "metadata": {},
     "output_type": "execute_result"
    }
   ],
   "source": [
    "qda.score(X_test, y_test)"
   ]
  },
  {
   "cell_type": "code",
   "execution_count": 44,
   "id": "christian-diagram",
   "metadata": {},
   "outputs": [
    {
     "name": "stdout",
     "output_type": "stream",
     "text": [
      "Classification report for classifier QuadraticDiscriminantAnalysis():\n",
      "              precision    recall  f1-score   support\n",
      "\n",
      "           0       0.98      0.87      0.93       808\n",
      "           1       0.44      0.88      0.58        91\n",
      "\n",
      "    accuracy                           0.87       899\n",
      "   macro avg       0.71      0.88      0.75       899\n",
      "weighted avg       0.93      0.87      0.89       899\n",
      "\n",
      "\n"
     ]
    }
   ],
   "source": [
    "print(f\"Classification report for classifier {qda}:\\n\"\n",
    "f\"{metrics.classification_report(y_test, y_pred)}\\n\")"
   ]
  },
  {
   "cell_type": "code",
   "execution_count": 45,
   "id": "shared-prisoner",
   "metadata": {},
   "outputs": [
    {
     "name": "stdout",
     "output_type": "stream",
     "text": [
      "Confusion matrix:\n",
      "[[705 103]\n",
      " [ 11  80]]\n"
     ]
    },
    {
     "data": {
      "image/png": "[encoded data removed]",
      "text/plain": [
       "<Figure size 432x288 with 2 Axes>"
      ]
     },
     "metadata": {},
     "output_type": "display_data"
    }
   ],
   "source": [
    "disp = metrics.plot_confusion_matrix(qda, X_test, y_test)\n",
    "disp.figure_.suptitle(\"Confusion Matrix\")\n",
    "print(f\"Confusion matrix:\\n{disp.confusion_matrix}\")\n",
    "\n",
    "plt.show()"
   ]
  },
  {
   "cell_type": "markdown",
   "id": "horizontal-hearts",
   "metadata": {},
   "source": [
    "The confusion matrix above shows that there is an increase in the number of FP in this case. The QDA has 87% accuracy which is the least accuracy compared to the other classifiers."
   ]
  },
  {
   "cell_type": "markdown",
   "id": "rocky-honduras",
   "metadata": {},
   "source": [
    "Part e)"
   ]
  },
  {
   "cell_type": "markdown",
   "id": "green-instrument",
   "metadata": {},
   "source": [
    "The dataset provided was split into training and test data for checking the performance of 4 different classifiers while performing binary classification.\n",
    "\n",
    "Training dataset: Almost all of the classfiers had high accuracy in predicting the training set. The precision, recall and f1-score values were close to 1, almost everytime.\n",
    "\n",
    "Test Data:-\n",
    "\n",
    "KNN: Best performing classifier for binary classification of this data. It had the highest accuracy of 99%. It produced almost 1 precision, recall and f1-score values.\n",
    "\n",
    "LR: Almost as good as KNN. It had an accuracy of 97% during the binary classification. The precision, recall and f1-score values range from 0.88-0.99.\n",
    "\n",
    "LDA: A good classifier among the 4. The accuracy of this classifier is 96%. The precision, recall and f1-scores values range from 0.82-0.99.\n",
    "\n",
    "QDA: The least performing classifier. The accuracy is only 87% while the other classifiers have accuracy greater than 95%. The precision, recall and f1-scores values go as low as 0.44."
   ]
  },
  {
   "cell_type": "markdown",
   "id": "biological-contemporary",
   "metadata": {},
   "source": [
    "Part f)"
   ]
  },
  {
   "cell_type": "code",
   "execution_count": 46,
   "id": "charitable-state",
   "metadata": {},
   "outputs": [],
   "source": [
    "from sklearn.model_selection import train_test_split\n",
    "\n",
    "n_samples = len(digits.images)\n",
    "data = digits.images.reshape((n_samples, -1))\n",
    "\n",
    "X_train, X_test, y_train, y_test = train_test_split(data, digits.target, test_size=0.5, shuffle=False)"
   ]
  },
  {
   "cell_type": "markdown",
   "id": "acquired-hungary",
   "metadata": {},
   "source": [
    "**KNN**"
   ]
  },
  {
   "cell_type": "code",
   "execution_count": 47,
   "id": "sacred-stake",
   "metadata": {},
   "outputs": [
    {
     "data": {
      "text/plain": [
       "KNeighborsClassifier(n_neighbors=3)"
      ]
     },
     "execution_count": 47,
     "metadata": {},
     "output_type": "execute_result"
    }
   ],
   "source": [
    "neigh = KNeighborsClassifier(n_neighbors=3)\n",
    "neigh.fit(X_train, y_train)"
   ]
  },
  {
   "cell_type": "code",
   "execution_count": 48,
   "id": "hourly-motorcycle",
   "metadata": {},
   "outputs": [],
   "source": [
    "predicted = neigh.predict(X_test)"
   ]
  },
  {
   "cell_type": "code",
   "execution_count": 49,
   "id": "behind-tourism",
   "metadata": {},
   "outputs": [
    {
     "name": "stdout",
     "output_type": "stream",
     "text": [
      "Classification report for classifier KNeighborsClassifier(n_neighbors=3):\n",
      "              precision    recall  f1-score   support\n",
      "\n",
      "           0       0.99      0.99      0.99        88\n",
      "           1       0.98      0.99      0.98        91\n",
      "           2       0.99      0.94      0.96        86\n",
      "           3       0.91      0.92      0.92        91\n",
      "           4       0.99      0.93      0.96        92\n",
      "           5       0.97      0.97      0.97        91\n",
      "           6       0.99      1.00      0.99        91\n",
      "           7       0.98      1.00      0.99        89\n",
      "           8       0.94      0.95      0.95        88\n",
      "           9       0.91      0.93      0.92        92\n",
      "\n",
      "    accuracy                           0.96       899\n",
      "   macro avg       0.96      0.96      0.96       899\n",
      "weighted avg       0.96      0.96      0.96       899\n",
      "\n",
      "\n"
     ]
    }
   ],
   "source": [
    "print(f\"Classification report for classifier {neigh}:\\n\"\n",
    "f\"{metrics.classification_report(y_test, predicted)}\\n\")"
   ]
  },
  {
   "cell_type": "code",
   "execution_count": 50,
   "id": "amber-minimum",
   "metadata": {},
   "outputs": [
    {
     "name": "stdout",
     "output_type": "stream",
     "text": [
      "Confusion matrix:\n",
      "[[87  0  0  0  1  0  0  0  0  0]\n",
      " [ 0 90  0  0  0  0  0  0  1  0]\n",
      " [ 1  0 81  4  0  0  0  0  0  0]\n",
      " [ 0  0  0 84  0  1  0  2  3  1]\n",
      " [ 0  0  0  0 86  0  0  0  0  6]\n",
      " [ 0  0  0  0  0 88  1  0  0  2]\n",
      " [ 0  0  0  0  0  0 91  0  0  0]\n",
      " [ 0  0  0  0  0  0  0 89  0  0]\n",
      " [ 0  2  1  1  0  0  0  0 84  0]\n",
      " [ 0  0  0  3  0  2  0  0  1 86]]\n"
     ]
    },
    {
     "data": {
      "image/png": "[encoded data removed]",
      "text/plain": [
       "<Figure size 432x288 with 2 Axes>"
      ]
     },
     "metadata": {},
     "output_type": "display_data"
    }
   ],
   "source": [
    "disp = metrics.plot_confusion_matrix(neigh, X_test, y_test)\n",
    "disp.figure_.suptitle(\"Confusion Matrix\")\n",
    "print(f\"Confusion matrix:\\n{disp.confusion_matrix}\")\n",
    "\n",
    "plt.show()"
   ]
  },
  {
   "cell_type": "markdown",
   "id": "following-massage",
   "metadata": {},
   "source": [
    "From the confusion matrix we can see that the almost all of the datapoints have been correctly classified into their respective classes. The accuracy of KNN for this multi-class classification is 96%."
   ]
  },
  {
   "cell_type": "markdown",
   "id": "ready-despite",
   "metadata": {},
   "source": [
    "**Logistic Regression**"
   ]
  },
  {
   "cell_type": "code",
   "execution_count": 51,
   "id": "constant-badge",
   "metadata": {},
   "outputs": [],
   "source": [
    "clf = skl_lm.LogisticRegression(solver='newton-cg')\n",
    "\n",
    "clf.fit(X_train, y_train)\n",
    "predicted = clf.predict(X_test)"
   ]
  },
  {
   "cell_type": "code",
   "execution_count": 52,
   "id": "cutting-jimmy",
   "metadata": {},
   "outputs": [
    {
     "name": "stdout",
     "output_type": "stream",
     "text": [
      "Classification report for classifier LogisticRegression(solver='newton-cg'):\n",
      "              precision    recall  f1-score   support\n",
      "\n",
      "           0       0.99      0.97      0.98        88\n",
      "           1       0.96      0.88      0.92        91\n",
      "           2       0.99      0.98      0.98        86\n",
      "           3       0.96      0.85      0.90        91\n",
      "           4       0.98      0.92      0.95        92\n",
      "           5       0.90      0.96      0.93        91\n",
      "           6       0.92      0.99      0.95        91\n",
      "           7       0.97      0.96      0.96        89\n",
      "           8       0.87      0.89      0.88        88\n",
      "           9       0.83      0.95      0.88        92\n",
      "\n",
      "    accuracy                           0.93       899\n",
      "   macro avg       0.94      0.93      0.93       899\n",
      "weighted avg       0.94      0.93      0.93       899\n",
      "\n",
      "\n"
     ]
    }
   ],
   "source": [
    "print(f\"Classification report for classifier {clf}:\\n\"\n",
    "f\"{metrics.classification_report(y_test, predicted)}\\n\")"
   ]
  },
  {
   "cell_type": "code",
   "execution_count": 53,
   "id": "verbal-gallery",
   "metadata": {},
   "outputs": [
    {
     "name": "stdout",
     "output_type": "stream",
     "text": [
      "Confusion matrix:\n",
      "[[85  0  0  0  1  0  2  0  0  0]\n",
      " [ 0 80  0  1  0  0  0  0  2  8]\n",
      " [ 0  0 84  2  0  0  0  0  0  0]\n",
      " [ 0  0  0 77  0  4  0  2  7  1]\n",
      " [ 0  0  0  0 85  0  3  0  0  4]\n",
      " [ 0  0  0  0  0 87  2  0  0  2]\n",
      " [ 0  1  0  0  0  0 90  0  0  0]\n",
      " [ 0  0  0  0  1  0  0 85  1  2]\n",
      " [ 0  2  1  0  0  4  1  1 78  1]\n",
      " [ 1  0  0  0  0  2  0  0  2 87]]\n"
     ]
    },
    {
     "data": {
      "image/png": "[encoded data removed]",
      "text/plain": [
       "<Figure size 432x288 with 2 Axes>"
      ]
     },
     "metadata": {},
     "output_type": "display_data"
    }
   ],
   "source": [
    "disp = metrics.plot_confusion_matrix(clf, X_test, y_test)\n",
    "disp.figure_.suptitle(\"Confusion Matrix\")\n",
    "print(f\"Confusion matrix:\\n{disp.confusion_matrix}\")\n",
    "\n",
    "plt.show()"
   ]
  },
  {
   "cell_type": "markdown",
   "id": "grave-namibia",
   "metadata": {},
   "source": [
    "From the confusion matrix we can see that the most of the datapoints have been correctly classified into their respective classes. The accuracy of Logistic Regression for this multi-class classification is 93%."
   ]
  },
  {
   "cell_type": "markdown",
   "id": "industrial-anchor",
   "metadata": {},
   "source": [
    "**OVR**"
   ]
  },
  {
   "cell_type": "code",
   "execution_count": 58,
   "id": "based-colors",
   "metadata": {},
   "outputs": [
    {
     "data": {
      "text/plain": [
       "array([0])"
      ]
     },
     "execution_count": 58,
     "metadata": {},
     "output_type": "execute_result"
    }
   ],
   "source": [
    "from sklearn.multiclass import OneVsRestClassifier\n",
    "\n",
    "ovr_clf = OneVsRestClassifier(skl_lm.LogisticRegression())\n",
    "ovr_clf.fit(X_train, y_train)\n",
    "\n",
    "data, labels = load_digits(return_X_y=True)\n",
    "ovr_clf.predict([data[0]])"
   ]
  },
  {
   "cell_type": "code",
   "execution_count": 60,
   "id": "least-repeat",
   "metadata": {},
   "outputs": [
    {
     "data": {
      "text/plain": [
       "array([[ 11.56408419, -40.04403942, -17.06025813, -12.01267365,\n",
       "        -19.1480992 , -16.04669872, -18.62383451, -13.98168268,\n",
       "        -16.03569085, -16.74098171]])"
      ]
     },
     "execution_count": 60,
     "metadata": {},
     "output_type": "execute_result"
    }
   ],
   "source": [
    "digit_scores = ovr_clf.decision_function([data[0]])\n",
    "digit_scores"
   ]
  },
  {
   "cell_type": "markdown",
   "id": "moving-stations",
   "metadata": {},
   "source": [
    "In OneVsRest Classifier, the prediction for data[0] was performed correctly as the digit_scores has the highest value at the 0th position."
   ]
  },
  {
   "cell_type": "markdown",
   "id": "associate-scientist",
   "metadata": {},
   "source": [
    "**LDA**"
   ]
  },
  {
   "cell_type": "code",
   "execution_count": 61,
   "id": "charming-surrey",
   "metadata": {},
   "outputs": [],
   "source": [
    "lda = LinearDiscriminantAnalysis(solver='svd')\n",
    "y_pred = lda.fit(X_train, y_train).predict(X_test)"
   ]
  },
  {
   "cell_type": "code",
   "execution_count": 62,
   "id": "center-burton",
   "metadata": {},
   "outputs": [
    {
     "name": "stdout",
     "output_type": "stream",
     "text": [
      "Classification report for classifier LinearDiscriminantAnalysis():\n",
      "              precision    recall  f1-score   support\n",
      "\n",
      "           0       0.97      0.99      0.98        88\n",
      "           1       0.92      0.89      0.91        91\n",
      "           2       0.97      0.91      0.94        86\n",
      "           3       0.90      0.92      0.91        91\n",
      "           4       0.99      0.90      0.94        92\n",
      "           5       0.90      0.95      0.92        91\n",
      "           6       0.95      0.99      0.97        91\n",
      "           7       0.96      0.92      0.94        89\n",
      "           8       0.90      0.83      0.86        88\n",
      "           9       0.79      0.91      0.84        92\n",
      "\n",
      "    accuracy                           0.92       899\n",
      "   macro avg       0.92      0.92      0.92       899\n",
      "weighted avg       0.92      0.92      0.92       899\n",
      "\n",
      "\n"
     ]
    }
   ],
   "source": [
    "print(f\"Classification report for classifier {lda}:\\n\"\n",
    "f\"{metrics.classification_report(y_test, y_pred)}\\n\")"
   ]
  },
  {
   "cell_type": "code",
   "execution_count": 63,
   "id": "widespread-wealth",
   "metadata": {},
   "outputs": [
    {
     "name": "stdout",
     "output_type": "stream",
     "text": [
      "Confusion matrix:\n",
      "[[87  0  0  0  0  0  1  0  0  0]\n",
      " [ 0 81  0  0  0  0  1  0  1  8]\n",
      " [ 1  0 78  5  0  0  0  0  1  1]\n",
      " [ 0  1  1 84  0  1  1  0  3  0]\n",
      " [ 1  1  0  0 83  0  0  1  2  4]\n",
      " [ 0  0  0  0  0 86  2  0  0  3]\n",
      " [ 0  1  0  0  0  0 90  0  0  0]\n",
      " [ 0  0  0  1  1  3  0 82  0  2]\n",
      " [ 0  4  0  1  0  4  0  1 73  5]\n",
      " [ 1  0  1  2  0  2  0  1  1 84]]\n"
     ]
    },
    {
     "data": {
      "image/png": "[encoded data removed]",
      "text/plain": [
       "<Figure size 432x288 with 2 Axes>"
      ]
     },
     "metadata": {},
     "output_type": "display_data"
    }
   ],
   "source": [
    "disp = metrics.plot_confusion_matrix(lda, X_test, y_test)\n",
    "disp.figure_.suptitle(\"Confusion Matrix\")\n",
    "print(f\"Confusion matrix:\\n{disp.confusion_matrix}\")\n",
    "\n",
    "plt.show()"
   ]
  },
  {
   "cell_type": "markdown",
   "id": "violent-intervention",
   "metadata": {},
   "source": [
    "From the confusion matrix we can see that the most of the datapoints have been correctly classified into their respective classes, similar to the case of Logistic Regression. The accuracy of LDA for this multi-class classification is 92%."
   ]
  },
  {
   "cell_type": "markdown",
   "id": "israeli-effects",
   "metadata": {},
   "source": [
    "**QDA**"
   ]
  },
  {
   "cell_type": "code",
   "execution_count": 64,
   "id": "suitable-helicopter",
   "metadata": {},
   "outputs": [
    {
     "data": {
      "text/plain": [
       "QuadraticDiscriminantAnalysis()"
      ]
     },
     "execution_count": 64,
     "metadata": {},
     "output_type": "execute_result"
    }
   ],
   "source": [
    "from sklearn.discriminant_analysis import QuadraticDiscriminantAnalysis\n",
    "\n",
    "qda = QuadraticDiscriminantAnalysis()\n",
    "qda.fit(X_train, y_train)"
   ]
  },
  {
   "cell_type": "code",
   "execution_count": 65,
   "id": "reverse-portsmouth",
   "metadata": {},
   "outputs": [],
   "source": [
    "y_pred = qda.predict(X_test)"
   ]
  },
  {
   "cell_type": "code",
   "execution_count": 66,
   "id": "faced-denial",
   "metadata": {},
   "outputs": [
    {
     "name": "stdout",
     "output_type": "stream",
     "text": [
      "Classification report for classifier QuadraticDiscriminantAnalysis():\n",
      "              precision    recall  f1-score   support\n",
      "\n",
      "           0       0.98      0.94      0.96        88\n",
      "           1       0.61      0.98      0.75        91\n",
      "           2       0.94      0.87      0.90        86\n",
      "           3       0.60      0.89      0.72        91\n",
      "           4       0.94      0.72      0.81        92\n",
      "           5       0.57      0.84      0.68        91\n",
      "           6       0.94      1.00      0.97        91\n",
      "           7       0.77      0.78      0.77        89\n",
      "           8       0.80      0.27      0.41        88\n",
      "           9       0.77      0.26      0.39        92\n",
      "\n",
      "    accuracy                           0.75       899\n",
      "   macro avg       0.79      0.75      0.74       899\n",
      "weighted avg       0.79      0.75      0.73       899\n",
      "\n",
      "\n"
     ]
    }
   ],
   "source": [
    "print(f\"Classification report for classifier {qda}:\\n\"\n",
    "f\"{metrics.classification_report(y_test, y_pred)}\\n\")"
   ]
  },
  {
   "cell_type": "code",
   "execution_count": 67,
   "id": "sexual-dollar",
   "metadata": {},
   "outputs": [
    {
     "name": "stdout",
     "output_type": "stream",
     "text": [
      "Confusion matrix:\n",
      "[[83  0  0  1  2  2  0  0  0  0]\n",
      " [ 0 89  1  0  0  1  0  0  0  0]\n",
      " [ 0  8 75  0  0  1  2  0  0  0]\n",
      " [ 0  5  0 81  0  3  0  1  1  0]\n",
      " [ 1  4  1  0 66  1  1 14  0  4]\n",
      " [ 0  4  0  9  0 76  2  0  0  0]\n",
      " [ 0  0  0  0  0  0 91  0  0  0]\n",
      " [ 0  2  0  3  2 10  0 69  2  1]\n",
      " [ 0 20  3 23  0 13  0  3 24  2]\n",
      " [ 1 15  0 18  0 27  1  3  3 24]]\n"
     ]
    },
    {
     "data": {
      "image/png": "[encoded data removed]",
      "text/plain": [
       "<Figure size 432x288 with 2 Axes>"
      ]
     },
     "metadata": {},
     "output_type": "display_data"
    }
   ],
   "source": [
    "disp = metrics.plot_confusion_matrix(qda, X_test, y_test)\n",
    "disp.figure_.suptitle(\"Confusion Matrix\")\n",
    "print(f\"Confusion matrix:\\n{disp.confusion_matrix}\")\n",
    "\n",
    "plt.show()"
   ]
  },
  {
   "cell_type": "markdown",
   "id": "responsible-reply",
   "metadata": {},
   "source": [
    "The confusion matrix shows that a lot of the datapoints have not been correctly classified into their respective classes. The accuracy of QDA for this multi-class classification is 75%. This is the least performing classifier compared to the rest of the classifiers."
   ]
  },
  {
   "cell_type": "code",
   "execution_count": null,
   "id": "pointed-presentation",
   "metadata": {},
   "outputs": [],
   "source": []
  }
 ],
 "metadata": {
  "kernelspec": {
   "display_name": "Python 3",
   "language": "python",
   "name": "python3"
  },
  "language_info": {
   "codemirror_mode": {
    "name": "ipython",
    "version": 3
   },
   "file_extension": ".py",
   "mimetype": "text/x-python",
   "name": "python",
   "nbconvert_exporter": "python",
   "pygments_lexer": "ipython3",
   "version": "3.8.5"
  }
 },
 "nbformat": 4,
 "nbformat_minor": 5
}
